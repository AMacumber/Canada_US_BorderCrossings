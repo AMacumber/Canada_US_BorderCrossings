{
 "cells": [
  {
   "cell_type": "markdown",
   "metadata": {},
   "source": [
    "# How do you remove seasonality from a time series?\n",
    "\n",
    "* First step is to confirm the frequency of the time series, then use a differencing based on that frequency *\n",
    "\n",
    "## What is the frequency of the seasonality?\n",
    "\n",
    "**The Data**\n",
    "\n",
    "Versions\n",
    "001 - v000, but 2019 removed"
   ]
  },
  {
   "cell_type": "code",
   "execution_count": 46,
   "metadata": {},
   "outputs": [
    {
     "data": {
      "text/html": [
       "<table>\n",
       "<caption>A data.frame: 6 × 5</caption>\n",
       "<thead>\n",
       "\t<tr><th scope=col>REF_DATE</th><th scope=col>Americans</th><th scope=col>Canadians</th><th scope=col>Year</th><th scope=col>Month</th></tr>\n",
       "\t<tr><th scope=col>&lt;fct&gt;</th><th scope=col>&lt;dbl&gt;</th><th scope=col>&lt;dbl&gt;</th><th scope=col>&lt;int&gt;</th><th scope=col>&lt;int&gt;</th></tr>\n",
       "</thead>\n",
       "<tbody>\n",
       "\t<tr><td>1972-01-01</td><td> 616944</td><td> 810082</td><td>1972</td><td>1</td></tr>\n",
       "\t<tr><td>1972-02-01</td><td> 620144</td><td> 764783</td><td>1972</td><td>2</td></tr>\n",
       "\t<tr><td>1972-03-01</td><td> 727056</td><td> 908528</td><td>1972</td><td>3</td></tr>\n",
       "\t<tr><td>1972-04-01</td><td> 834346</td><td>1023422</td><td>1972</td><td>4</td></tr>\n",
       "\t<tr><td>1972-05-01</td><td>1110105</td><td>1095222</td><td>1972</td><td>5</td></tr>\n",
       "\t<tr><td>1972-06-01</td><td>1433131</td><td>1139414</td><td>1972</td><td>6</td></tr>\n",
       "</tbody>\n",
       "</table>\n"
      ],
      "text/latex": [
       "A data.frame: 6 × 5\n",
       "\\begin{tabular}{r|lllll}\n",
       " REF\\_DATE & Americans & Canadians & Year & Month\\\\\n",
       " <fct> & <dbl> & <dbl> & <int> & <int>\\\\\n",
       "\\hline\n",
       "\t 1972-01-01 &  616944 &  810082 & 1972 & 1\\\\\n",
       "\t 1972-02-01 &  620144 &  764783 & 1972 & 2\\\\\n",
       "\t 1972-03-01 &  727056 &  908528 & 1972 & 3\\\\\n",
       "\t 1972-04-01 &  834346 & 1023422 & 1972 & 4\\\\\n",
       "\t 1972-05-01 & 1110105 & 1095222 & 1972 & 5\\\\\n",
       "\t 1972-06-01 & 1433131 & 1139414 & 1972 & 6\\\\\n",
       "\\end{tabular}\n"
      ],
      "text/markdown": [
       "\n",
       "A data.frame: 6 × 5\n",
       "\n",
       "| REF_DATE &lt;fct&gt; | Americans &lt;dbl&gt; | Canadians &lt;dbl&gt; | Year &lt;int&gt; | Month &lt;int&gt; |\n",
       "|---|---|---|---|---|\n",
       "| 1972-01-01 |  616944 |  810082 | 1972 | 1 |\n",
       "| 1972-02-01 |  620144 |  764783 | 1972 | 2 |\n",
       "| 1972-03-01 |  727056 |  908528 | 1972 | 3 |\n",
       "| 1972-04-01 |  834346 | 1023422 | 1972 | 4 |\n",
       "| 1972-05-01 | 1110105 | 1095222 | 1972 | 5 |\n",
       "| 1972-06-01 | 1433131 | 1139414 | 1972 | 6 |\n",
       "\n"
      ],
      "text/plain": [
       "  REF_DATE   Americans Canadians Year Month\n",
       "1 1972-01-01  616944    810082   1972 1    \n",
       "2 1972-02-01  620144    764783   1972 2    \n",
       "3 1972-03-01  727056    908528   1972 3    \n",
       "4 1972-04-01  834346   1023422   1972 4    \n",
       "5 1972-05-01 1110105   1095222   1972 5    \n",
       "6 1972-06-01 1433131   1139414   1972 6    "
      ]
     },
     "metadata": {},
     "output_type": "display_data"
    },
    {
     "data": {
      "text/html": [
       "<ol class=list-inline>\n",
       "\t<li>564</li>\n",
       "\t<li>5</li>\n",
       "</ol>\n"
      ],
      "text/latex": [
       "\\begin{enumerate*}\n",
       "\\item 564\n",
       "\\item 5\n",
       "\\end{enumerate*}\n"
      ],
      "text/markdown": [
       "1. 564\n",
       "2. 5\n",
       "\n",
       "\n"
      ],
      "text/plain": [
       "[1] 564   5"
      ]
     },
     "metadata": {},
     "output_type": "display_data"
    }
   ],
   "source": [
    "can_crossings_001 = read.csv('can_crossings_001.csv')\n",
    "head(can_crossings_001)\n",
    "dim(can_crossings_001)"
   ]
  },
  {
   "cell_type": "markdown",
   "metadata": {},
   "source": [
    "**Install Packages**"
   ]
  },
  {
   "cell_type": "code",
   "execution_count": 40,
   "metadata": {},
   "outputs": [
    {
     "name": "stderr",
     "output_type": "stream",
     "text": [
      "Installing package into 'C:/Users/I dunno---Andrew/Documents/R/win-library/3.6'\n",
      "(as 'lib' is unspecified)\n",
      "Warning message:\n",
      "\"package 'forecast' is in use and will not be installed\""
     ]
    }
   ],
   "source": [
    "install.packages(\"forecast\")"
   ]
  },
  {
   "cell_type": "markdown",
   "metadata": {},
   "source": [
    "**Load Libraries**"
   ]
  },
  {
   "cell_type": "code",
   "execution_count": 6,
   "metadata": {},
   "outputs": [
    {
     "name": "stderr",
     "output_type": "stream",
     "text": [
      "Registered S3 method overwritten by 'xts':\n",
      "  method     from\n",
      "  as.zoo.xts zoo \n",
      "Registered S3 method overwritten by 'quantmod':\n",
      "  method            from\n",
      "  as.zoo.data.frame zoo \n",
      "Registered S3 methods overwritten by 'forecast':\n",
      "  method             from    \n",
      "  fitted.fracdiff    fracdiff\n",
      "  residuals.fracdiff fracdiff\n"
     ]
    }
   ],
   "source": [
    "library(\"forecast\")"
   ]
  },
  {
   "cell_type": "markdown",
   "metadata": {},
   "source": [
    "### Visualize the seasonal component\n",
    "\n",
    "**Create a time series object**"
   ]
  },
  {
   "cell_type": "code",
   "execution_count": 47,
   "metadata": {},
   "outputs": [],
   "source": [
    "can_ts_001 <- ts(can_crossings_001$Canadians , start = 1972, frequency = 12)\n",
    "\n",
    "# Have a look at the data\n",
    "# can_ts_000\n",
    "\n",
    "# Have a look at the graph\n",
    "# plot(can_ts_000)"
   ]
  },
  {
   "cell_type": "markdown",
   "metadata": {},
   "source": [
    "**Decompose the time series**\n",
    "\n",
    "Versions\n",
    "* 001 - v000, but 2019 removed\n",
    "* 002 - v001, first seasonal difference (annual, 12)"
   ]
  },
  {
   "cell_type": "code",
   "execution_count": 63,
   "metadata": {},
   "outputs": [
    {
     "data": {
      "image/png": "[encoded data removed]",
      "text/plain": [
       "plot without title"
      ]
     },
     "metadata": {},
     "output_type": "display_data"
    }
   ],
   "source": [
    "can_ts_003_decompose <- decompose(can_ts_003, \"multiplicative\")\n",
    "plot(can_ts_003_decompose)"
   ]
  },
  {
   "cell_type": "markdown",
   "metadata": {},
   "source": [
    "**Return the Frequency**\n",
    "\n",
    "1972 to 2018 (46 years)"
   ]
  },
  {
   "cell_type": "code",
   "execution_count": 64,
   "metadata": {},
   "outputs": [
    {
     "data": {
      "text/html": [
       "48"
      ],
      "text/latex": [
       "48"
      ],
      "text/markdown": [
       "48"
      ],
      "text/plain": [
       "[1] 48"
      ]
     },
     "metadata": {},
     "output_type": "display_data"
    }
   ],
   "source": [
    "findfrequency(can_ts_003)"
   ]
  },
  {
   "cell_type": "markdown",
   "metadata": {},
   "source": [
    "**Remove Seasonal Signal** (v001)"
   ]
  },
  {
   "cell_type": "code",
   "execution_count": 58,
   "metadata": {},
   "outputs": [
    {
     "data": {
      "image/png": "[encoded data removed]",
      "text/plain": [
       "plot without title"
      ]
     },
     "metadata": {},
     "output_type": "display_data"
    }
   ],
   "source": [
    "#can_ts_002 = diff(can_ts_001, lag = 12)\n",
    "can_ts_003 = diff(can_ts_002, lag = 20)\n",
    "plot(can_ts_003)"
   ]
  }
 ],
 "metadata": {
  "kernelspec": {
   "display_name": "R",
   "language": "R",
   "name": "ir"
  },
  "language_info": {
   "codemirror_mode": "r",
   "file_extension": ".r",
   "mimetype": "text/x-r-source",
   "name": "R",
   "pygments_lexer": "r",
   "version": "3.6.0"
  }
 },
 "nbformat": 4,
 "nbformat_minor": 2
}
