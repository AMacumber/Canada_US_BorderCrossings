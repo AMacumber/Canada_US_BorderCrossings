{
 "cells": [
  {
   "cell_type": "markdown",
   "metadata": {},
   "source": [
    "# Create A DataFrame by importing data from mySQL Database\n",
    "\n",
    "Load Libraries"
   ]
  },
  {
   "cell_type": "code",
   "execution_count": 1,
   "metadata": {},
   "outputs": [],
   "source": [
    "import pandas as pd\n",
    "import mysql.connector"
   ]
  },
  {
   "cell_type": "markdown",
   "metadata": {},
   "source": [
    "Read in **Table** (border_df_000) from MySQL **Database** (bordercrossings) and create a python **dataframe** (border_df_000)"
   ]
  },
  {
   "cell_type": "code",
   "execution_count": 2,
   "metadata": {},
   "outputs": [],
   "source": [
    "# Define a connection\n",
    "mySQLconnection = mysql.connector.connect(user='root', \n",
    "                                          database='bordercrossings', \n",
    "                                          password = 'password')\n",
    "\n",
    "# Create Dataframe from Query\n",
    "border_df_000 = pd.read_sql('SELECT * FROM border_df_000', con=mySQLconnection)\n",
    "\n",
    "# Close connections\n",
    "mySQLconnection.close()"
   ]
  },
  {
   "cell_type": "markdown",
   "metadata": {},
   "source": [
    "Inspect the **dataframe** (df_000)"
   ]
  },
  {
   "cell_type": "code",
   "execution_count": 3,
   "metadata": {},
   "outputs": [
    {
     "name": "stdout",
     "output_type": "stream",
     "text": [
      "(769590, 18)\n",
      "  row_names ï..REF_DATE     GEO           DGUID  \\\n",
      "0         1     1972-01  Canada  2016A000011124   \n",
      "1         2     1972-01  Canada  2016A000011124   \n",
      "2         3     1972-01  Canada  2016A000011124   \n",
      "3         4     1972-01  Canada  2016A000011124   \n",
      "4         5     1972-01  Canada  2016A000011124   \n",
      "\n",
      "                    Trip.characteristics         Length.of.stay  \\\n",
      "0         Total vehicles entering Canada  Length of stay, total   \n",
      "1  Total United States vehicles entering  Length of stay, total   \n",
      "2  Total United States vehicles entering  Length of stay, total   \n",
      "3  Total United States vehicles entering  Length of stay, total   \n",
      "4  Total United States vehicles entering  Length of stay, total   \n",
      "\n",
      "          Mode.of.transportation     UOM  UOM_ID SCALAR_FACTOR  SCALAR_ID  \\\n",
      "0  Mode of transportation, total  Number     223        units           0   \n",
      "1  Mode of transportation, total  Number     223        units           0   \n",
      "2                    Automobiles  Number     223        units           0   \n",
      "3                         Trucks  Number     223        units           0   \n",
      "4                 Other vehicles  Number     223        units           0   \n",
      "\n",
      "    VECTOR COORDINATE      VALUE STATUS SYMBOL TERMINATED  DECIMALS  \n",
      "0  v129299    1.1.1.1  1427026.0          None       None         0  \n",
      "1  v129300    1.2.1.1   616944.0          None       None         0  \n",
      "2  v129301    1.2.1.2   557108.0          None       None         0  \n",
      "3  v129305    1.2.1.3    59491.0          None       None         0  \n",
      "4  v129306    1.2.1.4      345.0          None       None         0  \n"
     ]
    }
   ],
   "source": [
    "print(border_df_000.shape)\n",
    "print(border_df_000.head())"
   ]
  }
 ],
 "metadata": {
  "kernelspec": {
   "display_name": "Python 3",
   "language": "python",
   "name": "python3"
  },
  "language_info": {
   "codemirror_mode": {
    "name": "ipython",
    "version": 3
   },
   "file_extension": ".py",
   "mimetype": "text/x-python",
   "name": "python",
   "nbconvert_exporter": "python",
   "pygments_lexer": "ipython3",
   "version": "3.7.1"
  }
 },
 "nbformat": 4,
 "nbformat_minor": 2
}
