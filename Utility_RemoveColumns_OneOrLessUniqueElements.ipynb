{
 "cells": [
  {
   "cell_type": "markdown",
   "metadata": {},
   "source": [
    "**Drop Columns**\n",
    "\n",
    "Drop columns that have 1 or less unique elements"
   ]
  },
  {
   "cell_type": "code",
   "execution_count": 7,
   "metadata": {},
   "outputs": [
    {
     "data": {
      "text/plain": [
       "['UOM',\n",
       " 'UOM_ID',\n",
       " 'SCALAR_FACTOR',\n",
       " 'SCALAR_ID',\n",
       " 'STATUS',\n",
       " 'SYMBOL',\n",
       " 'TERMINATED',\n",
       " 'DECIMALS']"
      ]
     },
     "execution_count": 7,
     "metadata": {},
     "output_type": "execute_result"
    }
   ],
   "source": [
    "drop_nonunique = [] # create an empty list to put columns to be dropped in\n",
    "column_unique = border_df_000.nunique() # shows the number of unique elements in each feature\n",
    "\n",
    "for i in range(len(border_df_000.nunique())):\n",
    "    if column_unique[i] <= 1: # if the number of unique elements in each feature is <= 1\n",
    "        drop_nonunique.append(column_unique.index[i]) # add that column to the list\n",
    "\n",
    "drop_nonunique    "
   ]
  },
  {
   "cell_type": "markdown",
   "metadata": {},
   "source": [
    "*There are 8 columns that have 1 or less unique elements, they will dropped from further analysis*"
   ]
  },
  {
   "cell_type": "code",
   "execution_count": 12,
   "metadata": {
    "scrolled": false
   },
   "outputs": [
    {
     "name": "stdout",
     "output_type": "stream",
     "text": [
      "(769590, 17)\n",
      "(769590, 9)\n"
     ]
    }
   ],
   "source": [
    "#v001 - drop features that have 1 or less unique elements\n",
    "\n",
    "border_df_001 = border_df_000.drop(drop_nonunique, axis = 1)\n",
    "print(border_df_000.shape)\n",
    "print(border_df_001.shape)"
   ]
  }
 ],
 "metadata": {
  "kernelspec": {
   "display_name": "Python 3",
   "language": "python",
   "name": "python3"
  },
  "language_info": {
   "codemirror_mode": {
    "name": "ipython",
    "version": 3
   },
   "file_extension": ".py",
   "mimetype": "text/x-python",
   "name": "python",
   "nbconvert_exporter": "python",
   "pygments_lexer": "ipython3",
   "version": "3.7.1"
  }
 },
 "nbformat": 4,
 "nbformat_minor": 2
}
