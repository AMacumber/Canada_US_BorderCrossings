{
 "cells": [
  {
   "cell_type": "markdown",
   "metadata": {},
   "source": [
    "# The Canada/US Border Crossing Dataset\n",
    "\n",
    "\n",
    "*Exploration of whether the variance in border crossings since 1972 is related to socio-economic indices*"
   ]
  },
  {
   "cell_type": "markdown",
   "metadata": {},
   "source": [
    "## Load Data\n",
    "\n",
    "**Import Libraries**"
   ]
  },
  {
   "cell_type": "code",
   "execution_count": 2,
   "metadata": {},
   "outputs": [],
   "source": [
    "import pandas as pd #working with dataframes"
   ]
  },
  {
   "cell_type": "markdown",
   "metadata": {},
   "source": [
    "**Load Data**"
   ]
  },
  {
   "cell_type": "code",
   "execution_count": 3,
   "metadata": {},
   "outputs": [
    {
     "name": "stderr",
     "output_type": "stream",
     "text": [
      "C:\\DataScience\\lib\\site-packages\\IPython\\core\\interactiveshell.py:3020: DtypeWarning: Columns (13) have mixed types. Specify dtype option on import or set low_memory=False.\n",
      "  interactivity=interactivity, compiler=compiler, result=result)\n"
     ]
    }
   ],
   "source": [
    "# Data accessed from: https://open.canada.ca/data/en/dataset/6e438d59-880a-4f5e-827d-6c35243cf10a\n",
    "# Data accessed on: 2019-05-24\n",
    "\n",
    "border_df_000 = pd.read_csv('24100002.csv')"
   ]
  },
  {
   "cell_type": "markdown",
   "metadata": {},
   "source": [
    "**Dataset Versions**\n",
    "\n",
    "* 000 - raw dataset\n",
    "* 001 - reduce column 'Length of stay' to a single class 'Length of stay, total'\n",
    "* 002 - remove columns with 1 or less unique elements/classes\n",
    "* 003 - remove DGUID column (NaNs); replace with Region column based on GEO\n",
    "* 004 - reduce 'Mode of transportation' to a single class 'Total'; remove 'Total' from 'Trip characteristics'\n",
    "* 005 - remove 'Canada' entries from 'Region' column"
   ]
  },
  {
   "cell_type": "markdown",
   "metadata": {},
   "source": [
    "## Data Exploration"
   ]
  },
  {
   "cell_type": "code",
   "execution_count": 73,
   "metadata": {},
   "outputs": [
    {
     "data": {
      "text/html": [
       "<div>\n",
       "<style scoped>\n",
       "    .dataframe tbody tr th:only-of-type {\n",
       "        vertical-align: middle;\n",
       "    }\n",
       "\n",
       "    .dataframe tbody tr th {\n",
       "        vertical-align: top;\n",
       "    }\n",
       "\n",
       "    .dataframe thead th {\n",
       "        text-align: right;\n",
       "    }\n",
       "</style>\n",
       "<table border=\"1\" class=\"dataframe\">\n",
       "  <thead>\n",
       "    <tr style=\"text-align: right;\">\n",
       "      <th></th>\n",
       "      <th>REF_DATE</th>\n",
       "      <th>GEO</th>\n",
       "      <th>DGUID</th>\n",
       "      <th>Trip characteristics</th>\n",
       "      <th>Length of stay</th>\n",
       "      <th>Mode of transportation</th>\n",
       "      <th>UOM</th>\n",
       "      <th>UOM_ID</th>\n",
       "      <th>SCALAR_FACTOR</th>\n",
       "      <th>SCALAR_ID</th>\n",
       "      <th>VECTOR</th>\n",
       "      <th>COORDINATE</th>\n",
       "      <th>VALUE</th>\n",
       "      <th>STATUS</th>\n",
       "      <th>SYMBOL</th>\n",
       "      <th>TERMINATED</th>\n",
       "      <th>DECIMALS</th>\n",
       "    </tr>\n",
       "  </thead>\n",
       "  <tbody>\n",
       "    <tr>\n",
       "      <th>0</th>\n",
       "      <td>1972-01</td>\n",
       "      <td>Canada</td>\n",
       "      <td>2016A000011124</td>\n",
       "      <td>Total vehicles entering Canada</td>\n",
       "      <td>Length of stay, total</td>\n",
       "      <td>Mode of transportation, total</td>\n",
       "      <td>Number</td>\n",
       "      <td>223</td>\n",
       "      <td>units</td>\n",
       "      <td>0</td>\n",
       "      <td>v129299</td>\n",
       "      <td>1.1.1.1</td>\n",
       "      <td>1427026.0</td>\n",
       "      <td>NaN</td>\n",
       "      <td>NaN</td>\n",
       "      <td>NaN</td>\n",
       "      <td>0</td>\n",
       "    </tr>\n",
       "    <tr>\n",
       "      <th>1</th>\n",
       "      <td>1972-01</td>\n",
       "      <td>Canada</td>\n",
       "      <td>2016A000011124</td>\n",
       "      <td>Total United States vehicles entering</td>\n",
       "      <td>Length of stay, total</td>\n",
       "      <td>Mode of transportation, total</td>\n",
       "      <td>Number</td>\n",
       "      <td>223</td>\n",
       "      <td>units</td>\n",
       "      <td>0</td>\n",
       "      <td>v129300</td>\n",
       "      <td>1.2.1.1</td>\n",
       "      <td>616944.0</td>\n",
       "      <td>NaN</td>\n",
       "      <td>NaN</td>\n",
       "      <td>NaN</td>\n",
       "      <td>0</td>\n",
       "    </tr>\n",
       "    <tr>\n",
       "      <th>2</th>\n",
       "      <td>1972-01</td>\n",
       "      <td>Canada</td>\n",
       "      <td>2016A000011124</td>\n",
       "      <td>Total United States vehicles entering</td>\n",
       "      <td>Length of stay, total</td>\n",
       "      <td>Automobiles</td>\n",
       "      <td>Number</td>\n",
       "      <td>223</td>\n",
       "      <td>units</td>\n",
       "      <td>0</td>\n",
       "      <td>v129301</td>\n",
       "      <td>1.2.1.2</td>\n",
       "      <td>557108.0</td>\n",
       "      <td>NaN</td>\n",
       "      <td>NaN</td>\n",
       "      <td>NaN</td>\n",
       "      <td>0</td>\n",
       "    </tr>\n",
       "    <tr>\n",
       "      <th>3</th>\n",
       "      <td>1972-01</td>\n",
       "      <td>Canada</td>\n",
       "      <td>2016A000011124</td>\n",
       "      <td>Total United States vehicles entering</td>\n",
       "      <td>Length of stay, total</td>\n",
       "      <td>Trucks</td>\n",
       "      <td>Number</td>\n",
       "      <td>223</td>\n",
       "      <td>units</td>\n",
       "      <td>0</td>\n",
       "      <td>v129305</td>\n",
       "      <td>1.2.1.3</td>\n",
       "      <td>59491.0</td>\n",
       "      <td>NaN</td>\n",
       "      <td>NaN</td>\n",
       "      <td>NaN</td>\n",
       "      <td>0</td>\n",
       "    </tr>\n",
       "    <tr>\n",
       "      <th>4</th>\n",
       "      <td>1972-01</td>\n",
       "      <td>Canada</td>\n",
       "      <td>2016A000011124</td>\n",
       "      <td>Total United States vehicles entering</td>\n",
       "      <td>Length of stay, total</td>\n",
       "      <td>Other vehicles</td>\n",
       "      <td>Number</td>\n",
       "      <td>223</td>\n",
       "      <td>units</td>\n",
       "      <td>0</td>\n",
       "      <td>v129306</td>\n",
       "      <td>1.2.1.4</td>\n",
       "      <td>345.0</td>\n",
       "      <td>NaN</td>\n",
       "      <td>NaN</td>\n",
       "      <td>NaN</td>\n",
       "      <td>0</td>\n",
       "    </tr>\n",
       "  </tbody>\n",
       "</table>\n",
       "</div>"
      ],
      "text/plain": [
       "  REF_DATE     GEO           DGUID                   Trip characteristics  \\\n",
       "0  1972-01  Canada  2016A000011124         Total vehicles entering Canada   \n",
       "1  1972-01  Canada  2016A000011124  Total United States vehicles entering   \n",
       "2  1972-01  Canada  2016A000011124  Total United States vehicles entering   \n",
       "3  1972-01  Canada  2016A000011124  Total United States vehicles entering   \n",
       "4  1972-01  Canada  2016A000011124  Total United States vehicles entering   \n",
       "\n",
       "          Length of stay         Mode of transportation     UOM  UOM_ID  \\\n",
       "0  Length of stay, total  Mode of transportation, total  Number     223   \n",
       "1  Length of stay, total  Mode of transportation, total  Number     223   \n",
       "2  Length of stay, total                    Automobiles  Number     223   \n",
       "3  Length of stay, total                         Trucks  Number     223   \n",
       "4  Length of stay, total                 Other vehicles  Number     223   \n",
       "\n",
       "  SCALAR_FACTOR  SCALAR_ID   VECTOR COORDINATE      VALUE STATUS  SYMBOL  \\\n",
       "0        units           0  v129299    1.1.1.1  1427026.0    NaN     NaN   \n",
       "1        units           0  v129300    1.2.1.1   616944.0    NaN     NaN   \n",
       "2        units           0  v129301    1.2.1.2   557108.0    NaN     NaN   \n",
       "3        units           0  v129305    1.2.1.3    59491.0    NaN     NaN   \n",
       "4        units           0  v129306    1.2.1.4      345.0    NaN     NaN   \n",
       "\n",
       "   TERMINATED  DECIMALS  \n",
       "0         NaN         0  \n",
       "1         NaN         0  \n",
       "2         NaN         0  \n",
       "3         NaN         0  \n",
       "4         NaN         0  "
      ]
     },
     "execution_count": 73,
     "metadata": {},
     "output_type": "execute_result"
    }
   ],
   "source": [
    "border_df_000.head()"
   ]
  },
  {
   "cell_type": "code",
   "execution_count": 74,
   "metadata": {},
   "outputs": [
    {
     "data": {
      "text/plain": [
       "(769590, 17)"
      ]
     },
     "execution_count": 74,
     "metadata": {},
     "output_type": "execute_result"
    }
   ],
   "source": [
    "border_df_000.shape"
   ]
  },
  {
   "cell_type": "markdown",
   "metadata": {},
   "source": [
    "### What are the number of NaNs for each column?"
   ]
  },
  {
   "cell_type": "code",
   "execution_count": 75,
   "metadata": {},
   "outputs": [
    {
     "data": {
      "text/plain": [
       "REF_DATE                       0\n",
       "GEO                            0\n",
       "DGUID                     684540\n",
       "Trip characteristics           0\n",
       "Length of stay                 0\n",
       "Mode of transportation         0\n",
       "UOM                            0\n",
       "UOM_ID                         0\n",
       "SCALAR_FACTOR                  0\n",
       "SCALAR_ID                      0\n",
       "VECTOR                         0\n",
       "COORDINATE                     0\n",
       "VALUE                       3960\n",
       "STATUS                    765630\n",
       "SYMBOL                    769590\n",
       "TERMINATED                769590\n",
       "DECIMALS                       0\n",
       "dtype: int64"
      ]
     },
     "execution_count": 75,
     "metadata": {},
     "output_type": "execute_result"
    }
   ],
   "source": [
    "border_df_000.isna().sum()"
   ]
  },
  {
   "cell_type": "markdown",
   "metadata": {},
   "source": [
    "*Several features are almost completely NaNs. 0.5% of the target (i.e., 'Value') are NaNs*"
   ]
  },
  {
   "cell_type": "markdown",
   "metadata": {},
   "source": [
    "### What are the number of unique elements for each column?"
   ]
  },
  {
   "cell_type": "code",
   "execution_count": 76,
   "metadata": {},
   "outputs": [
    {
     "data": {
      "text/plain": [
       "REF_DATE                    567\n",
       "GEO                         142\n",
       "DGUID                        10\n",
       "Trip characteristics          3\n",
       "Length of stay                4\n",
       "Mode of transportation        4\n",
       "UOM                           1\n",
       "UOM_ID                        1\n",
       "SCALAR_FACTOR                 1\n",
       "SCALAR_ID                     1\n",
       "VECTOR                     2130\n",
       "COORDINATE                 4260\n",
       "VALUE                     78833\n",
       "STATUS                        1\n",
       "SYMBOL                        0\n",
       "TERMINATED                    0\n",
       "DECIMALS                      1\n",
       "dtype: int64"
      ]
     },
     "execution_count": 76,
     "metadata": {},
     "output_type": "execute_result"
    }
   ],
   "source": [
    "border_df_000.nunique()"
   ]
  },
  {
   "cell_type": "markdown",
   "metadata": {},
   "source": [
    "*Any feature that has 1 or less unique elements can be removed, since there is no variance to explore*"
   ]
  },
  {
   "cell_type": "markdown",
   "metadata": {},
   "source": [
    "### Look at the distribution of crossings\n",
    "\n",
    "Lets create a barchart comparing the number of crossings for Canada and each Province/Territory and subdivide by citizenship"
   ]
  },
  {
   "cell_type": "code",
   "execution_count": 30,
   "metadata": {},
   "outputs": [],
   "source": [
    "# libraries\n",
    "import numpy as np\n",
    "import matplotlib.pyplot as plt\n",
    "from matplotlib.pyplot import figure"
   ]
  },
  {
   "cell_type": "code",
   "execution_count": 83,
   "metadata": {},
   "outputs": [
    {
     "data": {
      "text/plain": [
       "<matplotlib.legend.Legend at 0x2c3bbddc940>"
      ]
     },
     "execution_count": 83,
     "metadata": {},
     "output_type": "execute_result"
    },
    {
     "data": {
      "image/png": "[encoded data removed]",
      "text/plain": [
       "<Figure size 432x288 with 1 Axes>"
      ]
     },
     "metadata": {
      "needs_background": "light"
     },
     "output_type": "display_data"
    }
   ],
   "source": [
    "# Bar chart of crossings by Province/Territory\n",
    "\n",
    "# Let's remove the total Canadian crossings for every year\n",
    "border_df_005 = border_df_004[border_df_004['Region'] != 'Canada']\n",
    "\n",
    "# source code for .unstack() : https://stackoverflow.com/questions/48238305/bar-plot-with-groupby\n",
    "# we group the data by Province/Territory and then by citizenship and return the sum of value\n",
    "border_df_005.groupby(['Region','Trip characteristics'])['VALUE'].sum().unstack().plot(kind = 'bar')\n",
    "\n",
    "plt.title('Canadian border crossings from 1972 to 2019')\n",
    "plt.ylabel('Number of vehicles (1e8)')\n",
    "plt.xlabel('Province or Territory')\n",
    "\n",
    "plt.legend(bbox_to_anchor=(1.45, 0.8),\n",
    "           bbox_transform=plt.gcf().transFigure)"
   ]
  },
  {
   "cell_type": "markdown",
   "metadata": {},
   "source": [
    "*Ontario has had 2x more crossings than any other province or territory. Unlike the others, the number of US vehicles crossing is much closer to the number of Canadian vehicles returning. The Yukon is the only region to have a greater number of US vehicles entering than Canadian vehicles returning.*"
   ]
  },
  {
   "cell_type": "markdown",
   "metadata": {},
   "source": [
    "## Data Munging"
   ]
  },
  {
   "cell_type": "markdown",
   "metadata": {},
   "source": [
    "**Reduce 'Length of Stay' to a single class 'Total'**"
   ]
  },
  {
   "cell_type": "code",
   "execution_count": 77,
   "metadata": {},
   "outputs": [
    {
     "name": "stdout",
     "output_type": "stream",
     "text": [
      "(769590, 17)\n",
      "(461754, 17)\n"
     ]
    }
   ],
   "source": [
    "# For this study we are not interested in the 'Length of stay'\n",
    "border_df_001 = border_df_000[border_df_000['Length of stay'] == 'Length of stay, total']\n",
    "print(border_df_000.shape)\n",
    "print(border_df_001.shape)"
   ]
  },
  {
   "cell_type": "markdown",
   "metadata": {},
   "source": [
    "*This reduced the number of rows by 40%*"
   ]
  },
  {
   "cell_type": "markdown",
   "metadata": {},
   "source": [
    "**Drop columns that have 1 or less unique elements**"
   ]
  },
  {
   "cell_type": "code",
   "execution_count": 78,
   "metadata": {},
   "outputs": [
    {
     "data": {
      "text/plain": [
       "['Length of stay',\n",
       " 'UOM',\n",
       " 'UOM_ID',\n",
       " 'SCALAR_FACTOR',\n",
       " 'SCALAR_ID',\n",
       " 'STATUS',\n",
       " 'SYMBOL',\n",
       " 'TERMINATED',\n",
       " 'DECIMALS']"
      ]
     },
     "execution_count": 78,
     "metadata": {},
     "output_type": "execute_result"
    }
   ],
   "source": [
    "drop_nonunique = [] # create an empty list to put columns to be dropped in\n",
    "column_unique = border_df_001.nunique() # shows the number of unique elements in each feature\n",
    "\n",
    "for i in range(len(border_df_001.nunique())):\n",
    "    if column_unique[i] <= 1: # if the number of unique elements in each feature is <= 1\n",
    "        drop_nonunique.append(column_unique.index[i]) # add that column to the list\n",
    "\n",
    "drop_nonunique    "
   ]
  },
  {
   "cell_type": "code",
   "execution_count": 79,
   "metadata": {
    "scrolled": false
   },
   "outputs": [
    {
     "name": "stdout",
     "output_type": "stream",
     "text": [
      "(769590, 17)\n",
      "(461754, 8)\n"
     ]
    }
   ],
   "source": [
    "border_df_002 = border_df_001.drop(drop_nonunique, axis = 1)\n",
    "print(border_df_000.shape)\n",
    "print(border_df_002.shape)"
   ]
  },
  {
   "cell_type": "markdown",
   "metadata": {},
   "source": [
    "*This reduced the number of columns by 53%*"
   ]
  },
  {
   "cell_type": "markdown",
   "metadata": {},
   "source": [
    "**Create a Region Column Based on GEO. Remove DGUID**"
   ]
  },
  {
   "cell_type": "code",
   "execution_count": 80,
   "metadata": {},
   "outputs": [
    {
     "data": {
      "text/html": [
       "<div>\n",
       "<style scoped>\n",
       "    .dataframe tbody tr th:only-of-type {\n",
       "        vertical-align: middle;\n",
       "    }\n",
       "\n",
       "    .dataframe tbody tr th {\n",
       "        vertical-align: top;\n",
       "    }\n",
       "\n",
       "    .dataframe thead th {\n",
       "        text-align: right;\n",
       "    }\n",
       "</style>\n",
       "<table border=\"1\" class=\"dataframe\">\n",
       "  <thead>\n",
       "    <tr style=\"text-align: right;\">\n",
       "      <th></th>\n",
       "      <th>REF_DATE</th>\n",
       "      <th>GEO</th>\n",
       "      <th>Trip characteristics</th>\n",
       "      <th>Mode of transportation</th>\n",
       "      <th>VECTOR</th>\n",
       "      <th>COORDINATE</th>\n",
       "      <th>VALUE</th>\n",
       "      <th>Region</th>\n",
       "    </tr>\n",
       "  </thead>\n",
       "  <tbody>\n",
       "    <tr>\n",
       "      <th>0</th>\n",
       "      <td>1972-01</td>\n",
       "      <td>Canada</td>\n",
       "      <td>Total vehicles entering Canada</td>\n",
       "      <td>Mode of transportation, total</td>\n",
       "      <td>v129299</td>\n",
       "      <td>1.1.1.1</td>\n",
       "      <td>1427026.0</td>\n",
       "      <td>Canada</td>\n",
       "    </tr>\n",
       "    <tr>\n",
       "      <th>1</th>\n",
       "      <td>1972-01</td>\n",
       "      <td>Canada</td>\n",
       "      <td>Total United States vehicles entering</td>\n",
       "      <td>Mode of transportation, total</td>\n",
       "      <td>v129300</td>\n",
       "      <td>1.2.1.1</td>\n",
       "      <td>616944.0</td>\n",
       "      <td>Canada</td>\n",
       "    </tr>\n",
       "    <tr>\n",
       "      <th>2</th>\n",
       "      <td>1972-01</td>\n",
       "      <td>Canada</td>\n",
       "      <td>Total United States vehicles entering</td>\n",
       "      <td>Automobiles</td>\n",
       "      <td>v129301</td>\n",
       "      <td>1.2.1.2</td>\n",
       "      <td>557108.0</td>\n",
       "      <td>Canada</td>\n",
       "    </tr>\n",
       "    <tr>\n",
       "      <th>3</th>\n",
       "      <td>1972-01</td>\n",
       "      <td>Canada</td>\n",
       "      <td>Total United States vehicles entering</td>\n",
       "      <td>Trucks</td>\n",
       "      <td>v129305</td>\n",
       "      <td>1.2.1.3</td>\n",
       "      <td>59491.0</td>\n",
       "      <td>Canada</td>\n",
       "    </tr>\n",
       "    <tr>\n",
       "      <th>4</th>\n",
       "      <td>1972-01</td>\n",
       "      <td>Canada</td>\n",
       "      <td>Total United States vehicles entering</td>\n",
       "      <td>Other vehicles</td>\n",
       "      <td>v129306</td>\n",
       "      <td>1.2.1.4</td>\n",
       "      <td>345.0</td>\n",
       "      <td>Canada</td>\n",
       "    </tr>\n",
       "  </tbody>\n",
       "</table>\n",
       "</div>"
      ],
      "text/plain": [
       "  REF_DATE     GEO                   Trip characteristics  \\\n",
       "0  1972-01  Canada         Total vehicles entering Canada   \n",
       "1  1972-01  Canada  Total United States vehicles entering   \n",
       "2  1972-01  Canada  Total United States vehicles entering   \n",
       "3  1972-01  Canada  Total United States vehicles entering   \n",
       "4  1972-01  Canada  Total United States vehicles entering   \n",
       "\n",
       "          Mode of transportation   VECTOR COORDINATE      VALUE  Region  \n",
       "0  Mode of transportation, total  v129299    1.1.1.1  1427026.0  Canada  \n",
       "1  Mode of transportation, total  v129300    1.2.1.1   616944.0  Canada  \n",
       "2                    Automobiles  v129301    1.2.1.2   557108.0  Canada  \n",
       "3                         Trucks  v129305    1.2.1.3    59491.0  Canada  \n",
       "4                 Other vehicles  v129306    1.2.1.4      345.0  Canada  "
      ]
     },
     "execution_count": 80,
     "metadata": {},
     "output_type": "execute_result"
    }
   ],
   "source": [
    "#Create a list of all border crossing sites\n",
    "GEO_list = border_df_002['GEO'].unique().tolist()\n",
    "\n",
    "#Create an empty dictionary to populate\n",
    "Region_key = {}\n",
    "\n",
    "# For each site listed in 'GEO' associate the province\n",
    "# For cities, split on the comma and add the province\n",
    "# For provinces, just duplicate the value\n",
    "for i in GEO_list:\n",
    "    comma_position = i.find(',')\n",
    "    if comma_position != -1:\n",
    "        region_split = i.split(',')\n",
    "        region_value = region_split[1].strip()\n",
    "    else:\n",
    "        region_value = i\n",
    "        \n",
    "    Region_key[i] = region_value\n",
    "\n",
    "# Drop DGUID column\n",
    "border_df_003 = border_df_002.drop('DGUID', axis = 1)\n",
    "\n",
    "# Add a column for Region\n",
    "border_df_003['Region'] = border_df_003['GEO'].map(Region_key)\n",
    "border_df_003.head()"
   ]
  },
  {
   "cell_type": "markdown",
   "metadata": {},
   "source": [
    "**Reduce 'Mode of transportation' to a single class 'Total'**"
   ]
  },
  {
   "cell_type": "code",
   "execution_count": 82,
   "metadata": {},
   "outputs": [
    {
     "name": "stdout",
     "output_type": "stream",
     "text": [
      "(769590, 17)\n",
      "(102612, 7)\n"
     ]
    }
   ],
   "source": [
    "# Reduce 'Mode of transportation' to a single class\n",
    "border_df_004 = border_df_003[border_df_003['Mode of transportation'] == 'Mode of transportation, total']\n",
    "border_df_004 = border_df_004.drop(['Mode of transportation'], axis = 1)\n",
    "\n",
    "# Remove total for 'Trip characteristics'\n",
    "border_df_004 = border_df_004[border_df_004['Trip characteristics'] != 'Total vehicles entering Canada']\n",
    "print(border_df_000.shape)\n",
    "print(border_df_004.shape)"
   ]
  }
 ],
 "metadata": {
  "kernelspec": {
   "display_name": "Python 3",
   "language": "python",
   "name": "python3"
  },
  "language_info": {
   "codemirror_mode": {
    "name": "ipython",
    "version": 3
   },
   "file_extension": ".py",
   "mimetype": "text/x-python",
   "name": "python",
   "nbconvert_exporter": "python",
   "pygments_lexer": "ipython3",
   "version": "3.7.1"
  }
 },
 "nbformat": 4,
 "nbformat_minor": 2
}
