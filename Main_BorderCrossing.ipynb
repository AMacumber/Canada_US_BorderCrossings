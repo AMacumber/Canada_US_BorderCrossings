{
 "cells": [
  {
   "cell_type": "markdown",
   "metadata": {},
   "source": [
    "# The Canada/US Border Crossing Dataset\n",
    "\n",
    "\n",
    "*Exploration of whether the variance in border crossings since 1972 is related to socio-economic indices*"
   ]
  },
  {
   "cell_type": "markdown",
   "metadata": {},
   "source": [
    "## Load Data\n",
    "\n",
    "**Import Libraries**"
   ]
  },
  {
   "cell_type": "code",
   "execution_count": 1,
   "metadata": {},
   "outputs": [],
   "source": [
    "import pandas as pd #working with dataframes"
   ]
  },
  {
   "cell_type": "markdown",
   "metadata": {},
   "source": [
    "**Load Data**"
   ]
  },
  {
   "cell_type": "code",
   "execution_count": 2,
   "metadata": {},
   "outputs": [
    {
     "name": "stderr",
     "output_type": "stream",
     "text": [
      "C:\\DataScience\\lib\\site-packages\\IPython\\core\\interactiveshell.py:3020: DtypeWarning: Columns (13) have mixed types. Specify dtype option on import or set low_memory=False.\n",
      "  interactivity=interactivity, compiler=compiler, result=result)\n"
     ]
    }
   ],
   "source": [
    "# Data accessed from: https://open.canada.ca/data/en/dataset/6e438d59-880a-4f5e-827d-6c35243cf10a\n",
    "# Data accessed on: 2019-05-24\n",
    "\n",
    "border_df_000 = pd.read_csv('24100002.csv')"
   ]
  },
  {
   "cell_type": "markdown",
   "metadata": {},
   "source": [
    "## Vet Data"
   ]
  },
  {
   "cell_type": "code",
   "execution_count": 7,
   "metadata": {},
   "outputs": [
    {
     "data": {
      "text/html": [
       "<div>\n",
       "<style scoped>\n",
       "    .dataframe tbody tr th:only-of-type {\n",
       "        vertical-align: middle;\n",
       "    }\n",
       "\n",
       "    .dataframe tbody tr th {\n",
       "        vertical-align: top;\n",
       "    }\n",
       "\n",
       "    .dataframe thead th {\n",
       "        text-align: right;\n",
       "    }\n",
       "</style>\n",
       "<table border=\"1\" class=\"dataframe\">\n",
       "  <thead>\n",
       "    <tr style=\"text-align: right;\">\n",
       "      <th></th>\n",
       "      <th>REF_DATE</th>\n",
       "      <th>GEO</th>\n",
       "      <th>DGUID</th>\n",
       "      <th>Trip characteristics</th>\n",
       "      <th>Length of stay</th>\n",
       "      <th>Mode of transportation</th>\n",
       "      <th>UOM</th>\n",
       "      <th>UOM_ID</th>\n",
       "      <th>SCALAR_FACTOR</th>\n",
       "      <th>SCALAR_ID</th>\n",
       "      <th>VECTOR</th>\n",
       "      <th>COORDINATE</th>\n",
       "      <th>VALUE</th>\n",
       "      <th>STATUS</th>\n",
       "      <th>SYMBOL</th>\n",
       "      <th>TERMINATED</th>\n",
       "      <th>DECIMALS</th>\n",
       "    </tr>\n",
       "  </thead>\n",
       "  <tbody>\n",
       "    <tr>\n",
       "      <th>0</th>\n",
       "      <td>1972-01</td>\n",
       "      <td>Canada</td>\n",
       "      <td>2016A000011124</td>\n",
       "      <td>Total vehicles entering Canada</td>\n",
       "      <td>Length of stay, total</td>\n",
       "      <td>Mode of transportation, total</td>\n",
       "      <td>Number</td>\n",
       "      <td>223</td>\n",
       "      <td>units</td>\n",
       "      <td>0</td>\n",
       "      <td>v129299</td>\n",
       "      <td>1.1.1.1</td>\n",
       "      <td>1427026.0</td>\n",
       "      <td>NaN</td>\n",
       "      <td>NaN</td>\n",
       "      <td>NaN</td>\n",
       "      <td>0</td>\n",
       "    </tr>\n",
       "    <tr>\n",
       "      <th>1</th>\n",
       "      <td>1972-01</td>\n",
       "      <td>Canada</td>\n",
       "      <td>2016A000011124</td>\n",
       "      <td>Total United States vehicles entering</td>\n",
       "      <td>Length of stay, total</td>\n",
       "      <td>Mode of transportation, total</td>\n",
       "      <td>Number</td>\n",
       "      <td>223</td>\n",
       "      <td>units</td>\n",
       "      <td>0</td>\n",
       "      <td>v129300</td>\n",
       "      <td>1.2.1.1</td>\n",
       "      <td>616944.0</td>\n",
       "      <td>NaN</td>\n",
       "      <td>NaN</td>\n",
       "      <td>NaN</td>\n",
       "      <td>0</td>\n",
       "    </tr>\n",
       "    <tr>\n",
       "      <th>2</th>\n",
       "      <td>1972-01</td>\n",
       "      <td>Canada</td>\n",
       "      <td>2016A000011124</td>\n",
       "      <td>Total United States vehicles entering</td>\n",
       "      <td>Length of stay, total</td>\n",
       "      <td>Automobiles</td>\n",
       "      <td>Number</td>\n",
       "      <td>223</td>\n",
       "      <td>units</td>\n",
       "      <td>0</td>\n",
       "      <td>v129301</td>\n",
       "      <td>1.2.1.2</td>\n",
       "      <td>557108.0</td>\n",
       "      <td>NaN</td>\n",
       "      <td>NaN</td>\n",
       "      <td>NaN</td>\n",
       "      <td>0</td>\n",
       "    </tr>\n",
       "    <tr>\n",
       "      <th>3</th>\n",
       "      <td>1972-01</td>\n",
       "      <td>Canada</td>\n",
       "      <td>2016A000011124</td>\n",
       "      <td>Total United States vehicles entering</td>\n",
       "      <td>Length of stay, total</td>\n",
       "      <td>Trucks</td>\n",
       "      <td>Number</td>\n",
       "      <td>223</td>\n",
       "      <td>units</td>\n",
       "      <td>0</td>\n",
       "      <td>v129305</td>\n",
       "      <td>1.2.1.3</td>\n",
       "      <td>59491.0</td>\n",
       "      <td>NaN</td>\n",
       "      <td>NaN</td>\n",
       "      <td>NaN</td>\n",
       "      <td>0</td>\n",
       "    </tr>\n",
       "    <tr>\n",
       "      <th>4</th>\n",
       "      <td>1972-01</td>\n",
       "      <td>Canada</td>\n",
       "      <td>2016A000011124</td>\n",
       "      <td>Total United States vehicles entering</td>\n",
       "      <td>Length of stay, total</td>\n",
       "      <td>Other vehicles</td>\n",
       "      <td>Number</td>\n",
       "      <td>223</td>\n",
       "      <td>units</td>\n",
       "      <td>0</td>\n",
       "      <td>v129306</td>\n",
       "      <td>1.2.1.4</td>\n",
       "      <td>345.0</td>\n",
       "      <td>NaN</td>\n",
       "      <td>NaN</td>\n",
       "      <td>NaN</td>\n",
       "      <td>0</td>\n",
       "    </tr>\n",
       "  </tbody>\n",
       "</table>\n",
       "</div>"
      ],
      "text/plain": [
       "  REF_DATE     GEO           DGUID                   Trip characteristics  \\\n",
       "0  1972-01  Canada  2016A000011124         Total vehicles entering Canada   \n",
       "1  1972-01  Canada  2016A000011124  Total United States vehicles entering   \n",
       "2  1972-01  Canada  2016A000011124  Total United States vehicles entering   \n",
       "3  1972-01  Canada  2016A000011124  Total United States vehicles entering   \n",
       "4  1972-01  Canada  2016A000011124  Total United States vehicles entering   \n",
       "\n",
       "          Length of stay         Mode of transportation     UOM  UOM_ID  \\\n",
       "0  Length of stay, total  Mode of transportation, total  Number     223   \n",
       "1  Length of stay, total  Mode of transportation, total  Number     223   \n",
       "2  Length of stay, total                    Automobiles  Number     223   \n",
       "3  Length of stay, total                         Trucks  Number     223   \n",
       "4  Length of stay, total                 Other vehicles  Number     223   \n",
       "\n",
       "  SCALAR_FACTOR  SCALAR_ID   VECTOR COORDINATE      VALUE STATUS  SYMBOL  \\\n",
       "0        units           0  v129299    1.1.1.1  1427026.0    NaN     NaN   \n",
       "1        units           0  v129300    1.2.1.1   616944.0    NaN     NaN   \n",
       "2        units           0  v129301    1.2.1.2   557108.0    NaN     NaN   \n",
       "3        units           0  v129305    1.2.1.3    59491.0    NaN     NaN   \n",
       "4        units           0  v129306    1.2.1.4      345.0    NaN     NaN   \n",
       "\n",
       "   TERMINATED  DECIMALS  \n",
       "0         NaN         0  \n",
       "1         NaN         0  \n",
       "2         NaN         0  \n",
       "3         NaN         0  \n",
       "4         NaN         0  "
      ]
     },
     "execution_count": 7,
     "metadata": {},
     "output_type": "execute_result"
    }
   ],
   "source": [
    "border_df_000.head()"
   ]
  },
  {
   "cell_type": "code",
   "execution_count": 8,
   "metadata": {},
   "outputs": [
    {
     "data": {
      "text/plain": [
       "REF_DATE                    567\n",
       "GEO                         142\n",
       "DGUID                        10\n",
       "Trip characteristics          3\n",
       "Length of stay                4\n",
       "Mode of transportation        4\n",
       "UOM                           1\n",
       "UOM_ID                        1\n",
       "SCALAR_FACTOR                 1\n",
       "SCALAR_ID                     1\n",
       "VECTOR                     2130\n",
       "COORDINATE                 4260\n",
       "VALUE                     78833\n",
       "STATUS                        1\n",
       "SYMBOL                        0\n",
       "TERMINATED                    0\n",
       "DECIMALS                      1\n",
       "dtype: int64"
      ]
     },
     "execution_count": 8,
     "metadata": {},
     "output_type": "execute_result"
    }
   ],
   "source": [
    "# find the number of unique responses in each column\n",
    "\n",
    "border_df_000.nunique()"
   ]
  },
  {
   "cell_type": "markdown",
   "metadata": {},
   "source": [
    "*Any feature that has 1 or less unique elements can be removed, since there is no variance to explore*"
   ]
  },
  {
   "cell_type": "markdown",
   "metadata": {},
   "source": [
    "**Drop Columns**"
   ]
  },
  {
   "cell_type": "code",
   "execution_count": null,
   "metadata": {},
   "outputs": [],
   "source": [
    "# Drop columns that have 1 or less unique elements\n"
   ]
  },
  {
   "cell_type": "code",
   "execution_count": 24,
   "metadata": {},
   "outputs": [
    {
     "data": {
      "text/plain": [
       "REF_DATE                    567\n",
       "GEO                         142\n",
       "DGUID                        10\n",
       "Trip characteristics          3\n",
       "Length of stay                4\n",
       "Mode of transportation        4\n",
       "UOM                           1\n",
       "UOM_ID                        1\n",
       "SCALAR_FACTOR                 1\n",
       "SCALAR_ID                     1\n",
       "VECTOR                     2130\n",
       "COORDINATE                 4260\n",
       "VALUE                     78833\n",
       "STATUS                        1\n",
       "SYMBOL                        0\n",
       "TERMINATED                    0\n",
       "DECIMALS                      1\n",
       "dtype: int64"
      ]
     },
     "execution_count": 24,
     "metadata": {},
     "output_type": "execute_result"
    }
   ],
   "source": [
    "border_df_000.nunique()"
   ]
  },
  {
   "cell_type": "code",
   "execution_count": 18,
   "metadata": {},
   "outputs": [
    {
     "ename": "AttributeError",
     "evalue": "'numpy.int64' object has no attribute 'index'",
     "output_type": "error",
     "traceback": [
      "\u001b[1;31m---------------------------------------------------------------------------\u001b[0m",
      "\u001b[1;31mAttributeError\u001b[0m                            Traceback (most recent call last)",
      "\u001b[1;32m<ipython-input-18-c142817a6bed>\u001b[0m in \u001b[0;36m<module>\u001b[1;34m\u001b[0m\n\u001b[1;32m----> 1\u001b[1;33m \u001b[0mcolumn_unique\u001b[0m\u001b[1;33m[\u001b[0m\u001b[1;36m0\u001b[0m\u001b[1;33m]\u001b[0m\u001b[1;33m.\u001b[0m\u001b[0mindex\u001b[0m\u001b[1;33m\u001b[0m\u001b[1;33m\u001b[0m\u001b[0m\n\u001b[0m",
      "\u001b[1;31mAttributeError\u001b[0m: 'numpy.int64' object has no attribute 'index'"
     ]
    }
   ],
   "source": [
    "column_unique[0].index"
   ]
  },
  {
   "cell_type": "code",
   "execution_count": 25,
   "metadata": {},
   "outputs": [
    {
     "data": {
      "text/plain": [
       "['UOM',\n",
       " 'UOM_ID',\n",
       " 'SCALAR_FACTOR',\n",
       " 'SCALAR_ID',\n",
       " 'STATUS',\n",
       " 'SYMBOL',\n",
       " 'TERMINATED',\n",
       " 'DECIMALS']"
      ]
     },
     "execution_count": 25,
     "metadata": {},
     "output_type": "execute_result"
    }
   ],
   "source": [
    "drop_nonunique = [] # create an empty list to put columns to be dropped in\n",
    "column_unique = border_df_000.nunique()\n",
    "\n",
    "for i in range(len(border_df_000.nunique())):\n",
    "    if column_unique[i] <= 1:\n",
    "        drop_nonunique.append(column_unique.index[i])\n",
    "\n",
    "drop_nonunique    "
   ]
  }
 ],
 "metadata": {
  "kernelspec": {
   "display_name": "Python 3",
   "language": "python",
   "name": "python3"
  },
  "language_info": {
   "codemirror_mode": {
    "name": "ipython",
    "version": 3
   },
   "file_extension": ".py",
   "mimetype": "text/x-python",
   "name": "python",
   "nbconvert_exporter": "python",
   "pygments_lexer": "ipython3",
   "version": "3.7.1"
  }
 },
 "nbformat": 4,
 "nbformat_minor": 2
}
