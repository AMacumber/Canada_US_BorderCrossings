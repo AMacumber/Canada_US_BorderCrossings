{
 "cells": [
  {
   "cell_type": "markdown",
   "metadata": {},
   "source": [
    "# The Canada/US Border Crossing Dataset\n",
    "\n",
    "\n",
    "*Exploration of whether the variance in border crossings since 1972 is related to socio-economic indices*"
   ]
  },
  {
   "cell_type": "markdown",
   "metadata": {},
   "source": [
    "## Load Data\n",
    "\n",
    "**Import Libraries**"
   ]
  },
  {
   "cell_type": "code",
   "execution_count": 2,
   "metadata": {},
   "outputs": [],
   "source": [
    "import pandas as pd #working with dataframes"
   ]
  },
  {
   "cell_type": "markdown",
   "metadata": {},
   "source": [
    "**Load Data**"
   ]
  },
  {
   "cell_type": "code",
   "execution_count": 4,
   "metadata": {},
   "outputs": [
    {
     "name": "stderr",
     "output_type": "stream",
     "text": [
      "C:\\DataScience\\lib\\site-packages\\IPython\\core\\interactiveshell.py:3020: DtypeWarning: Columns (13) have mixed types. Specify dtype option on import or set low_memory=False.\n",
      "  interactivity=interactivity, compiler=compiler, result=result)\n"
     ]
    }
   ],
   "source": [
    "# Data accessed from: https://open.canada.ca/data/en/dataset/6e438d59-880a-4f5e-827d-6c35243cf10a\n",
    "# Data accessed on: 2019-05-24\n",
    "\n",
    "border_df_000 = pd.read_csv('24100002.csv')"
   ]
  },
  {
   "cell_type": "markdown",
   "metadata": {},
   "source": [
    "**Dataset Versions**\n",
    "\n",
    "* 000 - raw dataset\n",
    "* 001 - reduce column 'Length of stay' to a single class 'Length of stay, total'\n",
    "* 002 - remove columns with 1 or less unique elements/classes"
   ]
  },
  {
   "cell_type": "markdown",
   "metadata": {},
   "source": [
    "## Data Exploration"
   ]
  },
  {
   "cell_type": "code",
   "execution_count": 35,
   "metadata": {},
   "outputs": [
    {
     "data": {
      "text/html": [
       "<div>\n",
       "<style scoped>\n",
       "    .dataframe tbody tr th:only-of-type {\n",
       "        vertical-align: middle;\n",
       "    }\n",
       "\n",
       "    .dataframe tbody tr th {\n",
       "        vertical-align: top;\n",
       "    }\n",
       "\n",
       "    .dataframe thead th {\n",
       "        text-align: right;\n",
       "    }\n",
       "</style>\n",
       "<table border=\"1\" class=\"dataframe\">\n",
       "  <thead>\n",
       "    <tr style=\"text-align: right;\">\n",
       "      <th></th>\n",
       "      <th>REF_DATE</th>\n",
       "      <th>GEO</th>\n",
       "      <th>DGUID</th>\n",
       "      <th>Trip characteristics</th>\n",
       "      <th>VECTOR</th>\n",
       "      <th>COORDINATE</th>\n",
       "      <th>VALUE</th>\n",
       "    </tr>\n",
       "  </thead>\n",
       "  <tbody>\n",
       "    <tr>\n",
       "      <th>1</th>\n",
       "      <td>1972-01</td>\n",
       "      <td>Canada</td>\n",
       "      <td>2016A000011124</td>\n",
       "      <td>Total United States vehicles entering</td>\n",
       "      <td>v129300</td>\n",
       "      <td>1.2.1.1</td>\n",
       "      <td>616944.0</td>\n",
       "    </tr>\n",
       "    <tr>\n",
       "      <th>8</th>\n",
       "      <td>1972-01</td>\n",
       "      <td>Canada</td>\n",
       "      <td>2016A000011124</td>\n",
       "      <td>Total Canadian vehicles returning</td>\n",
       "      <td>v129307</td>\n",
       "      <td>1.3.1.1</td>\n",
       "      <td>810082.0</td>\n",
       "    </tr>\n",
       "    <tr>\n",
       "      <th>16</th>\n",
       "      <td>1972-01</td>\n",
       "      <td>Nova Scotia</td>\n",
       "      <td>2016A000212</td>\n",
       "      <td>Total United States vehicles entering</td>\n",
       "      <td>v129315</td>\n",
       "      <td>2.2.1.1</td>\n",
       "      <td>164.0</td>\n",
       "    </tr>\n",
       "    <tr>\n",
       "      <th>23</th>\n",
       "      <td>1972-01</td>\n",
       "      <td>Nova Scotia</td>\n",
       "      <td>2016A000212</td>\n",
       "      <td>Total Canadian vehicles returning</td>\n",
       "      <td>v129322</td>\n",
       "      <td>2.3.1.1</td>\n",
       "      <td>129.0</td>\n",
       "    </tr>\n",
       "    <tr>\n",
       "      <th>31</th>\n",
       "      <td>1972-01</td>\n",
       "      <td>New Brunswick</td>\n",
       "      <td>2016A000213</td>\n",
       "      <td>Total United States vehicles entering</td>\n",
       "      <td>v129330</td>\n",
       "      <td>4.2.1.1</td>\n",
       "      <td>94865.0</td>\n",
       "    </tr>\n",
       "  </tbody>\n",
       "</table>\n",
       "</div>"
      ],
      "text/plain": [
       "   REF_DATE            GEO           DGUID  \\\n",
       "1   1972-01         Canada  2016A000011124   \n",
       "8   1972-01         Canada  2016A000011124   \n",
       "16  1972-01    Nova Scotia     2016A000212   \n",
       "23  1972-01    Nova Scotia     2016A000212   \n",
       "31  1972-01  New Brunswick     2016A000213   \n",
       "\n",
       "                     Trip characteristics   VECTOR COORDINATE     VALUE  \n",
       "1   Total United States vehicles entering  v129300    1.2.1.1  616944.0  \n",
       "8       Total Canadian vehicles returning  v129307    1.3.1.1  810082.0  \n",
       "16  Total United States vehicles entering  v129315    2.2.1.1     164.0  \n",
       "23      Total Canadian vehicles returning  v129322    2.3.1.1     129.0  \n",
       "31  Total United States vehicles entering  v129330    4.2.1.1   94865.0  "
      ]
     },
     "execution_count": 35,
     "metadata": {},
     "output_type": "execute_result"
    }
   ],
   "source": [
    "border_df_003.head()"
   ]
  },
  {
   "cell_type": "markdown",
   "metadata": {},
   "source": [
    "### What are the number of unique elements for each column?"
   ]
  },
  {
   "cell_type": "code",
   "execution_count": 13,
   "metadata": {},
   "outputs": [
    {
     "data": {
      "text/plain": [
       "REF_DATE                    567\n",
       "GEO                         142\n",
       "DGUID                        10\n",
       "Trip characteristics          3\n",
       "Length of stay                4\n",
       "Mode of transportation        4\n",
       "UOM                           1\n",
       "UOM_ID                        1\n",
       "SCALAR_FACTOR                 1\n",
       "SCALAR_ID                     1\n",
       "VECTOR                     2130\n",
       "COORDINATE                 4260\n",
       "VALUE                     78833\n",
       "STATUS                        1\n",
       "SYMBOL                        0\n",
       "TERMINATED                    0\n",
       "DECIMALS                      1\n",
       "dtype: int64"
      ]
     },
     "execution_count": 13,
     "metadata": {},
     "output_type": "execute_result"
    }
   ],
   "source": [
    "border_df_000.nunique()"
   ]
  },
  {
   "cell_type": "markdown",
   "metadata": {},
   "source": [
    "*Any feature that has 1 or less unique elements can be removed, since there is no variance to explore*"
   ]
  },
  {
   "cell_type": "markdown",
   "metadata": {},
   "source": [
    "## Look at the distribution of crossings\n",
    "\n",
    "Lets create a barchart comparing the number of crossings for Canada and each Province/Territory and subdivide by citizenship"
   ]
  },
  {
   "cell_type": "code",
   "execution_count": 41,
   "metadata": {},
   "outputs": [],
   "source": [
    "# libraries\n",
    "import numpy as np\n",
    "import matplotlib.pyplot as plt\n",
    "from matplotlib import rc\n",
    "import pandas as pd"
   ]
  },
  {
   "cell_type": "code",
   "execution_count": 46,
   "metadata": {},
   "outputs": [
    {
     "data": {
      "text/plain": [
       "DGUID           Trip characteristics                 \n",
       "2016A000011124  Total Canadian vehicles returning        1.023271e+09\n",
       "                Total United States vehicles entering    6.583965e+08\n",
       "2016A000212     Total Canadian vehicles returning        2.287280e+05\n",
       "                Total United States vehicles entering    1.034486e+06\n",
       "2016A000213     Total Canadian vehicles returning        1.269728e+08\n",
       "                Total United States vehicles entering    5.001977e+07\n",
       "2016A000224     Total Canadian vehicles returning        1.226729e+08\n",
       "                Total United States vehicles entering    5.308858e+07\n",
       "2016A000235     Total Canadian vehicles returning        4.876917e+08\n",
       "                Total United States vehicles entering    4.431791e+08\n",
       "2016A000246     Total Canadian vehicles returning        2.769922e+07\n",
       "                Total United States vehicles entering    1.306882e+07\n",
       "2016A000247     Total Canadian vehicles returning        1.057139e+07\n",
       "                Total United States vehicles entering    4.456529e+06\n",
       "2016A000248     Total Canadian vehicles returning        1.238569e+07\n",
       "                Total United States vehicles entering    7.055193e+06\n",
       "2016A000259     Total Canadian vehicles returning        2.338816e+08\n",
       "                Total United States vehicles entering    8.343246e+07\n",
       "2016A000260     Total Canadian vehicles returning        1.166830e+06\n",
       "                Total United States vehicles entering    3.061526e+06\n",
       "Name: VALUE, dtype: float64"
      ]
     },
     "execution_count": 46,
     "metadata": {},
     "output_type": "execute_result"
    }
   ],
   "source": [
    "border_df_003.groupby(['DGUID','Trip characteristics'])['VALUE'].sum()"
   ]
  },
  {
   "cell_type": "code",
   "execution_count": 45,
   "metadata": {},
   "outputs": [
    {
     "data": {
      "text/plain": [
       "<matplotlib.axes._subplots.AxesSubplot at 0x1fe9301e048>"
      ]
     },
     "execution_count": 45,
     "metadata": {},
     "output_type": "execute_result"
    },
    {
     "data": {
      "image/png": "[encoded data removed]",
      "text/plain": [
       "<Figure size 432x288 with 1 Axes>"
      ]
     },
     "metadata": {
      "needs_background": "light"
     },
     "output_type": "display_data"
    }
   ],
   "source": [
    "# Bar chart of crossings by Province/Territory\n",
    "\n",
    "\n",
    "# source code for .unstack() : https://stackoverflow.com/questions/48238305/bar-plot-with-groupby\n",
    "border_df_003.groupby(['DGUID','Trip characteristics'])['VALUE'].sum().unstack().plot(kind = 'bar')\n",
    "\n",
    "#plt.title(' ... ')\n",
    "#plt.ylabel('...')\n",
    "#plt.xlabel('...')"
   ]
  },
  {
   "cell_type": "code",
   "execution_count": null,
   "metadata": {},
   "outputs": [],
   "source": [
    "# y-axis in bold\n",
    "rc('font', weight='bold')\n",
    "\n",
    "# Values of each group\n",
    "bars1 = [12, 28, 1, 8, 22]\n",
    "bars2 = [28, 7, 16, 4, 10]\n",
    "\n",
    "# Heights of bars1 + bars2\n",
    "bars = np.add(bars1, bars2).tolist()\n",
    "\n",
    "# The position of the bars on the x-axis\n",
    "r = [0,1,2,3,4]\n",
    "\n",
    "# Names of group and bar width\n",
    "names = ['A','B','C','D','E']\n",
    "barWidth = 1\n",
    "\n",
    "# Create brown bars\n",
    "plt.bar(r, bars1, color='#7f6d5f', edgecolor='white', width=barWidth)\n",
    "# Create green bars (middle), on top of the firs ones\n",
    "plt.bar(r, bars2, bottom=bars1, color='#557f2d', edgecolor='white', width=barWidth)\n",
    "# Create green bars (top)\n",
    "plt.bar(r, bars3, bottom=bars, color='#2d7f5e', edgecolor='white', width=barWidth)\n",
    "\n",
    "# Custom X axis\n",
    "plt.xticks(r, names, fontweight='bold')\n",
    "plt.xlabel(\"group\")\n",
    "\n",
    "# Show graphic\n",
    "plt.show()\n"
   ]
  },
  {
   "cell_type": "markdown",
   "metadata": {},
   "source": [
    "## Data Munging"
   ]
  },
  {
   "cell_type": "markdown",
   "metadata": {},
   "source": [
    "**Reduce 'Length of Stay' to a single class 'Total'**"
   ]
  },
  {
   "cell_type": "code",
   "execution_count": 20,
   "metadata": {},
   "outputs": [
    {
     "name": "stdout",
     "output_type": "stream",
     "text": [
      "(769590, 17)\n",
      "(461754, 17)\n"
     ]
    }
   ],
   "source": [
    "border_df_001 = border_df_000[border_df_000['Length of stay'] == 'Length of stay, total']\n",
    "print(border_df_000.shape)\n",
    "print(border_df_001.shape)"
   ]
  },
  {
   "cell_type": "markdown",
   "metadata": {},
   "source": [
    "*This reduced the number of rows by 40%*"
   ]
  },
  {
   "cell_type": "markdown",
   "metadata": {},
   "source": [
    "**Drop columns that have 1 or less unique elements**"
   ]
  },
  {
   "cell_type": "code",
   "execution_count": 21,
   "metadata": {},
   "outputs": [
    {
     "data": {
      "text/plain": [
       "['Length of stay',\n",
       " 'UOM',\n",
       " 'UOM_ID',\n",
       " 'SCALAR_FACTOR',\n",
       " 'SCALAR_ID',\n",
       " 'STATUS',\n",
       " 'SYMBOL',\n",
       " 'TERMINATED',\n",
       " 'DECIMALS']"
      ]
     },
     "execution_count": 21,
     "metadata": {},
     "output_type": "execute_result"
    }
   ],
   "source": [
    "drop_nonunique = [] # create an empty list to put columns to be dropped in\n",
    "column_unique = border_df_001.nunique() # shows the number of unique elements in each feature\n",
    "\n",
    "for i in range(len(border_df_001.nunique())):\n",
    "    if column_unique[i] <= 1: # if the number of unique elements in each feature is <= 1\n",
    "        drop_nonunique.append(column_unique.index[i]) # add that column to the list\n",
    "\n",
    "drop_nonunique    "
   ]
  },
  {
   "cell_type": "code",
   "execution_count": 22,
   "metadata": {
    "scrolled": false
   },
   "outputs": [
    {
     "name": "stdout",
     "output_type": "stream",
     "text": [
      "(769590, 17)\n",
      "(461754, 8)\n"
     ]
    }
   ],
   "source": [
    "border_df_002 = border_df_001.drop(drop_nonunique, axis = 1)\n",
    "print(border_df_000.shape)\n",
    "print(border_df_002.shape)"
   ]
  },
  {
   "cell_type": "markdown",
   "metadata": {},
   "source": [
    "*This reduced the number of columns by 53%*"
   ]
  },
  {
   "cell_type": "markdown",
   "metadata": {},
   "source": [
    "**Reduce 'Mode of transportation' to a single class 'Total'**"
   ]
  },
  {
   "cell_type": "code",
   "execution_count": 33,
   "metadata": {},
   "outputs": [
    {
     "name": "stdout",
     "output_type": "stream",
     "text": [
      "(769590, 17)\n",
      "(102612, 7)\n"
     ]
    }
   ],
   "source": [
    "border_df_003 = border_df_002[border_df_002['Mode of transportation'] == 'Mode of transportation, total']\n",
    "border_df_003 = border_df_003.drop(['Mode of transportation'], axis = 1)\n",
    "\n",
    "border_df_003 = border_df_003[border_df_003['Trip characteristics'] != 'Total vehicles entering Canada']\n",
    "print(border_df_000.shape)\n",
    "print(border_df_003.shape)"
   ]
  }
 ],
 "metadata": {
  "kernelspec": {
   "display_name": "Python 3",
   "language": "python",
   "name": "python3"
  },
  "language_info": {
   "codemirror_mode": {
    "name": "ipython",
    "version": 3
   },
   "file_extension": ".py",
   "mimetype": "text/x-python",
   "name": "python",
   "nbconvert_exporter": "python",
   "pygments_lexer": "ipython3",
   "version": "3.7.1"
  }
 },
 "nbformat": 4,
 "nbformat_minor": 2
}
