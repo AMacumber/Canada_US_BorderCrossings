{
 "cells": [
  {
   "cell_type": "markdown",
   "metadata": {},
   "source": [
    "# Step Six: Transform Time Series\n",
    "\n",
    "## Table Of Contents\n",
    "* [Data Versions](#versions)\n",
    "* [Load Data](#load)\n",
    "* [Removing Seasonality](#season)\n",
    "* [Save tables to database](#save)\n",
    "\n",
    "\n",
    "## <a name=\"versions\"></a>Data Versions\n",
    "\n",
    "* border_ts_000 - For details, see Code04_Py_PlotTimeSeries\n",
    "* border_ts_001 - Removed 2019, only three months were present\n",
    "* border_ts_002 - Removed seasonal component\n",
    "\n",
    "## <a name=\"loaddata\"></a>Load Data\n",
    "\n",
    "### Load data from (local) mySQL database"
   ]
  },
  {
   "cell_type": "code",
   "execution_count": 1,
   "metadata": {},
   "outputs": [
    {
     "name": "stderr",
     "output_type": "stream",
     "text": [
      "Loading required package: DBI\n"
     ]
    }
   ],
   "source": [
    "library(RMySQL)"
   ]
  },
  {
   "cell_type": "code",
   "execution_count": 7,
   "metadata": {},
   "outputs": [],
   "source": [
    "mydb = dbConnect(MySQL(), user= 'root'\n",
    "                 , password = 'PASSWORD'\n",
    "                 , dbname='bordercrossings', host = 'localhost')\n",
    "\n",
    "rs_save = dbSendQuery(mydb, \"select * from border_ts_001\")\n",
    "border_ts_001 = fetch(rs_save, n=-1)"
   ]
  },
  {
   "cell_type": "code",
   "execution_count": 8,
   "metadata": {},
   "outputs": [
    {
     "name": "stdout",
     "output_type": "stream",
     "text": [
      "'data.frame':\t564 obs. of  5 variables:\n",
      " $ REF_DATE : chr  \"1972-01-01 00:00:00\" \"1972-02-01 00:00:00\" \"1972-03-01 00:00:00\" \"1972-04-01 00:00:00\" ...\n",
      " $ Americans: num  616944 620144 727056 834346 1110105 ...\n",
      " $ Canadians: num  810082 764783 908528 1023422 1095222 ...\n",
      " $ Year     : num  1972 1972 1972 1972 1972 ...\n",
      " $ Month    : num  1 2 3 4 5 6 7 8 9 10 ...\n"
     ]
    }
   ],
   "source": [
    "str(border_ts_001)"
   ]
  },
  {
   "cell_type": "markdown",
   "metadata": {},
   "source": [
    "### Set 'REF_DATE' as data time object and index"
   ]
  },
  {
   "cell_type": "code",
   "execution_count": 9,
   "metadata": {},
   "outputs": [
    {
     "data": {
      "text/html": [
       "<table>\n",
       "<caption>A data.frame: 5 × 4</caption>\n",
       "<thead>\n",
       "\t<tr><th></th><th scope=col>Americans</th><th scope=col>Canadians</th><th scope=col>Year</th><th scope=col>Month</th></tr>\n",
       "\t<tr><th></th><th scope=col>&lt;dbl&gt;</th><th scope=col>&lt;dbl&gt;</th><th scope=col>&lt;dbl&gt;</th><th scope=col>&lt;dbl&gt;</th></tr>\n",
       "</thead>\n",
       "<tbody>\n",
       "\t<tr><th scope=row>1972-01-01 00:00:00</th><td> 616944</td><td> 810082</td><td>1972</td><td>1</td></tr>\n",
       "\t<tr><th scope=row>1972-02-01 00:00:00</th><td> 620144</td><td> 764783</td><td>1972</td><td>2</td></tr>\n",
       "\t<tr><th scope=row>1972-03-01 00:00:00</th><td> 727056</td><td> 908528</td><td>1972</td><td>3</td></tr>\n",
       "\t<tr><th scope=row>1972-04-01 00:00:00</th><td> 834346</td><td>1023422</td><td>1972</td><td>4</td></tr>\n",
       "\t<tr><th scope=row>1972-05-01 00:00:00</th><td>1110105</td><td>1095222</td><td>1972</td><td>5</td></tr>\n",
       "</tbody>\n",
       "</table>\n"
      ],
      "text/latex": [
       "A data.frame: 5 × 4\n",
       "\\begin{tabular}{r|llll}\n",
       "  & Americans & Canadians & Year & Month\\\\\n",
       "  & <dbl> & <dbl> & <dbl> & <dbl>\\\\\n",
       "\\hline\n",
       "\t1972-01-01 00:00:00 &  616944 &  810082 & 1972 & 1\\\\\n",
       "\t1972-02-01 00:00:00 &  620144 &  764783 & 1972 & 2\\\\\n",
       "\t1972-03-01 00:00:00 &  727056 &  908528 & 1972 & 3\\\\\n",
       "\t1972-04-01 00:00:00 &  834346 & 1023422 & 1972 & 4\\\\\n",
       "\t1972-05-01 00:00:00 & 1110105 & 1095222 & 1972 & 5\\\\\n",
       "\\end{tabular}\n"
      ],
      "text/markdown": [
       "\n",
       "A data.frame: 5 × 4\n",
       "\n",
       "| <!--/--> | Americans &lt;dbl&gt; | Canadians &lt;dbl&gt; | Year &lt;dbl&gt; | Month &lt;dbl&gt; |\n",
       "|---|---|---|---|---|\n",
       "| 1972-01-01 00:00:00 |  616944 |  810082 | 1972 | 1 |\n",
       "| 1972-02-01 00:00:00 |  620144 |  764783 | 1972 | 2 |\n",
       "| 1972-03-01 00:00:00 |  727056 |  908528 | 1972 | 3 |\n",
       "| 1972-04-01 00:00:00 |  834346 | 1023422 | 1972 | 4 |\n",
       "| 1972-05-01 00:00:00 | 1110105 | 1095222 | 1972 | 5 |\n",
       "\n"
      ],
      "text/plain": [
       "                    Americans Canadians Year Month\n",
       "1972-01-01 00:00:00  616944    810082   1972 1    \n",
       "1972-02-01 00:00:00  620144    764783   1972 2    \n",
       "1972-03-01 00:00:00  727056    908528   1972 3    \n",
       "1972-04-01 00:00:00  834346   1023422   1972 4    \n",
       "1972-05-01 00:00:00 1110105   1095222   1972 5    "
      ]
     },
     "metadata": {},
     "output_type": "display_data"
    }
   ],
   "source": [
    "rownames(border_ts_001) <- border_ts_001$REF_DATE\n",
    "border_ts_001$REF_DATE <- NULL\n",
    "\n",
    "head(border_ts_001,5)"
   ]
  },
  {
   "cell_type": "markdown",
   "metadata": {},
   "source": [
    "## <a name=\"season\"></a>Removing Seasonality\n",
    "\n",
    "Install Packages"
   ]
  },
  {
   "cell_type": "code",
   "execution_count": 10,
   "metadata": {},
   "outputs": [
    {
     "name": "stderr",
     "output_type": "stream",
     "text": [
      "Registered S3 method overwritten by 'xts':\n",
      "  method     from\n",
      "  as.zoo.xts zoo \n",
      "Registered S3 method overwritten by 'quantmod':\n",
      "  method            from\n",
      "  as.zoo.data.frame zoo \n",
      "Registered S3 methods overwritten by 'forecast':\n",
      "  method             from    \n",
      "  fitted.fracdiff    fracdiff\n",
      "  residuals.fracdiff fracdiff\n"
     ]
    }
   ],
   "source": [
    "# install.packages(\"forecast\")\n",
    "library(\"forecast\")"
   ]
  },
  {
   "cell_type": "markdown",
   "metadata": {},
   "source": [
    "### Visualize the seasonal component\n",
    "\n",
    "**Create a time series object**"
   ]
  },
  {
   "cell_type": "code",
   "execution_count": 12,
   "metadata": {},
   "outputs": [],
   "source": [
    "can_ts_001 <- ts(border_ts_001$Canadians , start = 1972, frequency = 12)\n",
    "usa_ts_001 <- ts(border_ts_001$Americans , start = 1972, frequency = 12)"
   ]
  },
  {
   "cell_type": "markdown",
   "metadata": {},
   "source": [
    "**Decompose the time series**"
   ]
  },
  {
   "cell_type": "code",
   "execution_count": 30,
   "metadata": {},
   "outputs": [],
   "source": [
    "can_ts_001_decompose <- decompose(can_ts_001, \"additive\")\n",
    "usa_ts_001_decompose <- decompose(usa_ts_001, \"additive\")"
   ]
  },
  {
   "cell_type": "code",
   "execution_count": 31,
   "metadata": {},
   "outputs": [
    {
     "data": {
      "image/png": "[encoded data removed]",
      "text/plain": [
       "plot without title"
      ]
     },
     "metadata": {},
     "output_type": "display_data"
    }
   ],
   "source": [
    "plot(can_ts_001_decompose)"
   ]
  },
  {
   "cell_type": "code",
   "execution_count": 23,
   "metadata": {},
   "outputs": [
    {
     "data": {
      "image/png": "[encoded data removed]",
      "text/plain": [
       "plot without title"
      ]
     },
     "metadata": {},
     "output_type": "display_data"
    }
   ],
   "source": [
    "plot(usa_ts_001_decompose)"
   ]
  },
  {
   "cell_type": "markdown",
   "metadata": {},
   "source": [
    "### Remove Seasonal Signal"
   ]
  },
  {
   "cell_type": "code",
   "execution_count": 28,
   "metadata": {},
   "outputs": [
    {
     "data": {
      "image/png": "[encoded data removed]",
      "text/plain": [
       "plot without title"
      ]
     },
     "metadata": {},
     "output_type": "display_data"
    }
   ],
   "source": [
    "can_ts_002 <- can_ts_001 - can_ts_001_decompose$seasonal\n",
    "\n",
    "plot(can_ts_002)"
   ]
  },
  {
   "cell_type": "code",
   "execution_count": 29,
   "metadata": {},
   "outputs": [
    {
     "data": {
      "image/png": "[encoded data removed]",
      "text/plain": [
       "plot without title"
      ]
     },
     "metadata": {},
     "output_type": "display_data"
    }
   ],
   "source": [
    "usa_ts_002 <- usa_ts_001 - usa_ts_001_decompose$seasonal\n",
    "\n",
    "plot(usa_ts_002)"
   ]
  },
  {
   "cell_type": "markdown",
   "metadata": {},
   "source": [
    "## Create a dataframe for export"
   ]
  },
  {
   "cell_type": "code",
   "execution_count": 52,
   "metadata": {},
   "outputs": [
    {
     "data": {
      "text/html": [
       "<table>\n",
       "<caption>A data.frame: 5 × 4</caption>\n",
       "<thead>\n",
       "\t<tr><th></th><th scope=col>Americans</th><th scope=col>Canadians</th><th scope=col>Year</th><th scope=col>Month</th></tr>\n",
       "\t<tr><th></th><th scope=col>&lt;dbl[,1]&gt;</th><th scope=col>&lt;dbl[,1]&gt;</th><th scope=col>&lt;dbl&gt;</th><th scope=col>&lt;dbl&gt;</th></tr>\n",
       "</thead>\n",
       "<tbody>\n",
       "\t<tr><th scope=row>1972-01-01 00:00:00</th><td> 966825.7</td><td>1137935.4</td><td>1972</td><td>1</td></tr>\n",
       "\t<tr><th scope=row>1972-02-01 00:00:00</th><td> 953145.0</td><td>1155440.4</td><td>1972</td><td>2</td></tr>\n",
       "\t<tr><th scope=row>1972-03-01 00:00:00</th><td> 937173.9</td><td> 947176.2</td><td>1972</td><td>3</td></tr>\n",
       "\t<tr><th scope=row>1972-04-01 00:00:00</th><td> 998478.5</td><td>1019398.8</td><td>1972</td><td>4</td></tr>\n",
       "\t<tr><th scope=row>1972-05-01 00:00:00</th><td>1061672.9</td><td> 987797.4</td><td>1972</td><td>5</td></tr>\n",
       "</tbody>\n",
       "</table>\n"
      ],
      "text/latex": [
       "A data.frame: 5 × 4\n",
       "\\begin{tabular}{r|llll}\n",
       "  & Americans & Canadians & Year & Month\\\\\n",
       "  & <dbl{[},1{]}> & <dbl{[},1{]}> & <dbl> & <dbl>\\\\\n",
       "\\hline\n",
       "\t1972-01-01 00:00:00 &  966825.7 & 1137935.4 & 1972 & 1\\\\\n",
       "\t1972-02-01 00:00:00 &  953145.0 & 1155440.4 & 1972 & 2\\\\\n",
       "\t1972-03-01 00:00:00 &  937173.9 &  947176.2 & 1972 & 3\\\\\n",
       "\t1972-04-01 00:00:00 &  998478.5 & 1019398.8 & 1972 & 4\\\\\n",
       "\t1972-05-01 00:00:00 & 1061672.9 &  987797.4 & 1972 & 5\\\\\n",
       "\\end{tabular}\n"
      ],
      "text/markdown": [
       "\n",
       "A data.frame: 5 × 4\n",
       "\n",
       "| <!--/--> | Americans &lt;dbl[,1]&gt; | Canadians &lt;dbl[,1]&gt; | Year &lt;dbl&gt; | Month &lt;dbl&gt; |\n",
       "|---|---|---|---|---|\n",
       "| 1972-01-01 00:00:00 |  966825.7 | 1137935.4 | 1972 | 1 |\n",
       "| 1972-02-01 00:00:00 |  953145.0 | 1155440.4 | 1972 | 2 |\n",
       "| 1972-03-01 00:00:00 |  937173.9 |  947176.2 | 1972 | 3 |\n",
       "| 1972-04-01 00:00:00 |  998478.5 | 1019398.8 | 1972 | 4 |\n",
       "| 1972-05-01 00:00:00 | 1061672.9 |  987797.4 | 1972 | 5 |\n",
       "\n"
      ],
      "text/plain": [
       "                    Americans Canadians Year Month\n",
       "1972-01-01 00:00:00  966825.7 1137935.4 1972 1    \n",
       "1972-02-01 00:00:00  953145.0 1155440.4 1972 2    \n",
       "1972-03-01 00:00:00  937173.9  947176.2 1972 3    \n",
       "1972-04-01 00:00:00  998478.5 1019398.8 1972 4    \n",
       "1972-05-01 00:00:00 1061672.9  987797.4 1972 5    "
      ]
     },
     "metadata": {},
     "output_type": "display_data"
    }
   ],
   "source": [
    "border_ts_002 <- border_ts_001\n",
    "border_ts_002$Americans <- as.matrix(usa_ts_002)\n",
    "border_ts_002$Canadians <- as.matrix(can_ts_002)\n",
    "\n",
    "head(border_ts_002,5)"
   ]
  },
  {
   "cell_type": "markdown",
   "metadata": {},
   "source": [
    "## <a name=\"save\"></a>Save table to local mySQL database"
   ]
  },
  {
   "cell_type": "code",
   "execution_count": 53,
   "metadata": {},
   "outputs": [
    {
     "data": {
      "text/html": [
       "TRUE"
      ],
      "text/latex": [
       "TRUE"
      ],
      "text/markdown": [
       "TRUE"
      ],
      "text/plain": [
       "[1] TRUE"
      ]
     },
     "metadata": {},
     "output_type": "display_data"
    }
   ],
   "source": [
    "mydb = dbConnect(MySQL(), user= 'root'\n",
    "                 , password = 'PASSWORD'\n",
    "                 , dbname='bordercrossings', host = 'localhost')\n",
    "\n",
    "# overwrite will create a new table; append will add rows to an existing\n",
    "dbWriteTable(mydb, name='border_ts_002', value=border_ts_002 # value is database table\n",
    "             , overwrite = TRUE, append = FALSE)"
   ]
  }
 ],
 "metadata": {
  "kernelspec": {
   "display_name": "R",
   "language": "R",
   "name": "ir"
  },
  "language_info": {
   "codemirror_mode": "r",
   "file_extension": ".r",
   "mimetype": "text/x-r-source",
   "name": "R",
   "pygments_lexer": "r",
   "version": "3.6.0"
  }
 },
 "nbformat": 4,
 "nbformat_minor": 2
}
