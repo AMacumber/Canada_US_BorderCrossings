{
 "cells": [
  {
   "cell_type": "markdown",
   "metadata": {},
   "source": [
    "## Data Exploration"
   ]
  },
  {
   "cell_type": "code",
   "execution_count": 3,
   "metadata": {},
   "outputs": [
    {
     "data": {
      "text/html": [
       "<div>\n",
       "<style scoped>\n",
       "    .dataframe tbody tr th:only-of-type {\n",
       "        vertical-align: middle;\n",
       "    }\n",
       "\n",
       "    .dataframe tbody tr th {\n",
       "        vertical-align: top;\n",
       "    }\n",
       "\n",
       "    .dataframe thead th {\n",
       "        text-align: right;\n",
       "    }\n",
       "</style>\n",
       "<table border=\"1\" class=\"dataframe\">\n",
       "  <thead>\n",
       "    <tr style=\"text-align: right;\">\n",
       "      <th></th>\n",
       "      <th>REF_DATE</th>\n",
       "      <th>GEO</th>\n",
       "      <th>DGUID</th>\n",
       "      <th>Trip characteristics</th>\n",
       "      <th>Length of stay</th>\n",
       "      <th>Mode of transportation</th>\n",
       "      <th>UOM</th>\n",
       "      <th>UOM_ID</th>\n",
       "      <th>SCALAR_FACTOR</th>\n",
       "      <th>SCALAR_ID</th>\n",
       "      <th>VECTOR</th>\n",
       "      <th>COORDINATE</th>\n",
       "      <th>VALUE</th>\n",
       "      <th>STATUS</th>\n",
       "      <th>SYMBOL</th>\n",
       "      <th>TERMINATED</th>\n",
       "      <th>DECIMALS</th>\n",
       "    </tr>\n",
       "  </thead>\n",
       "  <tbody>\n",
       "    <tr>\n",
       "      <th>0</th>\n",
       "      <td>1972-01</td>\n",
       "      <td>Canada</td>\n",
       "      <td>2016A000011124</td>\n",
       "      <td>Total vehicles entering Canada</td>\n",
       "      <td>Length of stay, total</td>\n",
       "      <td>Mode of transportation, total</td>\n",
       "      <td>Number</td>\n",
       "      <td>223</td>\n",
       "      <td>units</td>\n",
       "      <td>0</td>\n",
       "      <td>v129299</td>\n",
       "      <td>1.1.1.1</td>\n",
       "      <td>1427026.0</td>\n",
       "      <td>NaN</td>\n",
       "      <td>NaN</td>\n",
       "      <td>NaN</td>\n",
       "      <td>0</td>\n",
       "    </tr>\n",
       "    <tr>\n",
       "      <th>1</th>\n",
       "      <td>1972-01</td>\n",
       "      <td>Canada</td>\n",
       "      <td>2016A000011124</td>\n",
       "      <td>Total United States vehicles entering</td>\n",
       "      <td>Length of stay, total</td>\n",
       "      <td>Mode of transportation, total</td>\n",
       "      <td>Number</td>\n",
       "      <td>223</td>\n",
       "      <td>units</td>\n",
       "      <td>0</td>\n",
       "      <td>v129300</td>\n",
       "      <td>1.2.1.1</td>\n",
       "      <td>616944.0</td>\n",
       "      <td>NaN</td>\n",
       "      <td>NaN</td>\n",
       "      <td>NaN</td>\n",
       "      <td>0</td>\n",
       "    </tr>\n",
       "    <tr>\n",
       "      <th>2</th>\n",
       "      <td>1972-01</td>\n",
       "      <td>Canada</td>\n",
       "      <td>2016A000011124</td>\n",
       "      <td>Total United States vehicles entering</td>\n",
       "      <td>Length of stay, total</td>\n",
       "      <td>Automobiles</td>\n",
       "      <td>Number</td>\n",
       "      <td>223</td>\n",
       "      <td>units</td>\n",
       "      <td>0</td>\n",
       "      <td>v129301</td>\n",
       "      <td>1.2.1.2</td>\n",
       "      <td>557108.0</td>\n",
       "      <td>NaN</td>\n",
       "      <td>NaN</td>\n",
       "      <td>NaN</td>\n",
       "      <td>0</td>\n",
       "    </tr>\n",
       "    <tr>\n",
       "      <th>3</th>\n",
       "      <td>1972-01</td>\n",
       "      <td>Canada</td>\n",
       "      <td>2016A000011124</td>\n",
       "      <td>Total United States vehicles entering</td>\n",
       "      <td>Length of stay, total</td>\n",
       "      <td>Trucks</td>\n",
       "      <td>Number</td>\n",
       "      <td>223</td>\n",
       "      <td>units</td>\n",
       "      <td>0</td>\n",
       "      <td>v129305</td>\n",
       "      <td>1.2.1.3</td>\n",
       "      <td>59491.0</td>\n",
       "      <td>NaN</td>\n",
       "      <td>NaN</td>\n",
       "      <td>NaN</td>\n",
       "      <td>0</td>\n",
       "    </tr>\n",
       "    <tr>\n",
       "      <th>4</th>\n",
       "      <td>1972-01</td>\n",
       "      <td>Canada</td>\n",
       "      <td>2016A000011124</td>\n",
       "      <td>Total United States vehicles entering</td>\n",
       "      <td>Length of stay, total</td>\n",
       "      <td>Other vehicles</td>\n",
       "      <td>Number</td>\n",
       "      <td>223</td>\n",
       "      <td>units</td>\n",
       "      <td>0</td>\n",
       "      <td>v129306</td>\n",
       "      <td>1.2.1.4</td>\n",
       "      <td>345.0</td>\n",
       "      <td>NaN</td>\n",
       "      <td>NaN</td>\n",
       "      <td>NaN</td>\n",
       "      <td>0</td>\n",
       "    </tr>\n",
       "  </tbody>\n",
       "</table>\n",
       "</div>"
      ],
      "text/plain": [
       "  REF_DATE     GEO           DGUID                   Trip characteristics  \\\n",
       "0  1972-01  Canada  2016A000011124         Total vehicles entering Canada   \n",
       "1  1972-01  Canada  2016A000011124  Total United States vehicles entering   \n",
       "2  1972-01  Canada  2016A000011124  Total United States vehicles entering   \n",
       "3  1972-01  Canada  2016A000011124  Total United States vehicles entering   \n",
       "4  1972-01  Canada  2016A000011124  Total United States vehicles entering   \n",
       "\n",
       "          Length of stay         Mode of transportation     UOM  UOM_ID  \\\n",
       "0  Length of stay, total  Mode of transportation, total  Number     223   \n",
       "1  Length of stay, total  Mode of transportation, total  Number     223   \n",
       "2  Length of stay, total                    Automobiles  Number     223   \n",
       "3  Length of stay, total                         Trucks  Number     223   \n",
       "4  Length of stay, total                 Other vehicles  Number     223   \n",
       "\n",
       "  SCALAR_FACTOR  SCALAR_ID   VECTOR COORDINATE      VALUE STATUS  SYMBOL  \\\n",
       "0        units           0  v129299    1.1.1.1  1427026.0    NaN     NaN   \n",
       "1        units           0  v129300    1.2.1.1   616944.0    NaN     NaN   \n",
       "2        units           0  v129301    1.2.1.2   557108.0    NaN     NaN   \n",
       "3        units           0  v129305    1.2.1.3    59491.0    NaN     NaN   \n",
       "4        units           0  v129306    1.2.1.4      345.0    NaN     NaN   \n",
       "\n",
       "   TERMINATED  DECIMALS  \n",
       "0         NaN         0  \n",
       "1         NaN         0  \n",
       "2         NaN         0  \n",
       "3         NaN         0  \n",
       "4         NaN         0  "
      ]
     },
     "execution_count": 3,
     "metadata": {},
     "output_type": "execute_result"
    }
   ],
   "source": [
    "border_df_000.head()"
   ]
  },
  {
   "cell_type": "code",
   "execution_count": 4,
   "metadata": {},
   "outputs": [
    {
     "data": {
      "text/plain": [
       "(769590, 17)"
      ]
     },
     "execution_count": 4,
     "metadata": {},
     "output_type": "execute_result"
    }
   ],
   "source": [
    "border_df_000.shape"
   ]
  },
  {
   "cell_type": "markdown",
   "metadata": {},
   "source": [
    "### What are the number of NaNs for each column?"
   ]
  },
  {
   "cell_type": "code",
   "execution_count": 5,
   "metadata": {
    "scrolled": false
   },
   "outputs": [
    {
     "data": {
      "text/plain": [
       "REF_DATE                       0\n",
       "GEO                            0\n",
       "DGUID                     684540\n",
       "Trip characteristics           0\n",
       "Length of stay                 0\n",
       "Mode of transportation         0\n",
       "UOM                            0\n",
       "UOM_ID                         0\n",
       "SCALAR_FACTOR                  0\n",
       "SCALAR_ID                      0\n",
       "VECTOR                         0\n",
       "COORDINATE                     0\n",
       "VALUE                       3960\n",
       "STATUS                    765630\n",
       "SYMBOL                    769590\n",
       "TERMINATED                769590\n",
       "DECIMALS                       0\n",
       "dtype: int64"
      ]
     },
     "execution_count": 5,
     "metadata": {},
     "output_type": "execute_result"
    }
   ],
   "source": [
    "border_df_000.isna().sum()"
   ]
  },
  {
   "cell_type": "markdown",
   "metadata": {},
   "source": [
    "*Several features are almost completely NaNs. 0.5% of the target (i.e., 'Value') are NaNs*"
   ]
  },
  {
   "cell_type": "markdown",
   "metadata": {},
   "source": [
    "### What are the number of unique elements for each column?"
   ]
  },
  {
   "cell_type": "code",
   "execution_count": 6,
   "metadata": {},
   "outputs": [
    {
     "data": {
      "text/plain": [
       "REF_DATE                    567\n",
       "GEO                         142\n",
       "DGUID                        10\n",
       "Trip characteristics          3\n",
       "Length of stay                4\n",
       "Mode of transportation        4\n",
       "UOM                           1\n",
       "UOM_ID                        1\n",
       "SCALAR_FACTOR                 1\n",
       "SCALAR_ID                     1\n",
       "VECTOR                     2130\n",
       "COORDINATE                 4260\n",
       "VALUE                     78833\n",
       "STATUS                        1\n",
       "SYMBOL                        0\n",
       "TERMINATED                    0\n",
       "DECIMALS                      1\n",
       "dtype: int64"
      ]
     },
     "execution_count": 6,
     "metadata": {},
     "output_type": "execute_result"
    }
   ],
   "source": [
    "border_df_000.nunique()"
   ]
  },
  {
   "cell_type": "markdown",
   "metadata": {},
   "source": [
    "*Any feature that has 1 or less unique elements can be removed, since there is no variance to explore*"
   ]
  }
 ],
 "metadata": {
  "kernelspec": {
   "display_name": "Python 3",
   "language": "python",
   "name": "python3"
  },
  "language_info": {
   "codemirror_mode": {
    "name": "ipython",
    "version": 3
   },
   "file_extension": ".py",
   "mimetype": "text/x-python",
   "name": "python",
   "nbconvert_exporter": "python",
   "pygments_lexer": "ipython3",
   "version": "3.7.1"
  }
 },
 "nbformat": 4,
 "nbformat_minor": 2
}
