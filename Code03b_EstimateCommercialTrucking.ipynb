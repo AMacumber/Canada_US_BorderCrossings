{
 "cells": [
  {
   "cell_type": "markdown",
   "metadata": {},
   "source": [
    "# The Canada/US Border Crossing Dataset: Transborder Trucking\n",
    "\n",
    "\n",
    "*I have suspicions that the 'trucks' in the border crossing dataset do not reflect trucking*"
   ]
  },
  {
   "cell_type": "markdown",
   "metadata": {},
   "source": [
    "## Load Data\n",
    "\n",
    "**Import Libraries**"
   ]
  },
  {
   "cell_type": "code",
   "execution_count": 1,
   "metadata": {},
   "outputs": [],
   "source": [
    "import pandas as pd #working with dataframes"
   ]
  },
  {
   "cell_type": "markdown",
   "metadata": {},
   "source": [
    "**Load Data**"
   ]
  },
  {
   "cell_type": "code",
   "execution_count": 4,
   "metadata": {},
   "outputs": [],
   "source": [
    "trucking_df_000 = pd.read_csv('23100219.csv')"
   ]
  },
  {
   "cell_type": "markdown",
   "metadata": {},
   "source": [
    "**Dataset Versions**\n",
    "\n",
    "* 000 - raw dataset\n",
    "* 001 - reduce column 'Shipment type' to a single class 'Transborder shipments'\n",
    "* 002 - reduce column 'Trucking industry activity' to a single class 'Shipments'\n",
    "* 003 - remove columns with 1 or less unique elements/classes"
   ]
  },
  {
   "cell_type": "markdown",
   "metadata": {},
   "source": [
    "## Data Exploration"
   ]
  },
  {
   "cell_type": "code",
   "execution_count": 19,
   "metadata": {},
   "outputs": [
    {
     "data": {
      "text/html": [
       "<div>\n",
       "<style scoped>\n",
       "    .dataframe tbody tr th:only-of-type {\n",
       "        vertical-align: middle;\n",
       "    }\n",
       "\n",
       "    .dataframe tbody tr th {\n",
       "        vertical-align: top;\n",
       "    }\n",
       "\n",
       "    .dataframe thead th {\n",
       "        text-align: right;\n",
       "    }\n",
       "</style>\n",
       "<table border=\"1\" class=\"dataframe\">\n",
       "  <thead>\n",
       "    <tr style=\"text-align: right;\">\n",
       "      <th></th>\n",
       "      <th>REF_DATE</th>\n",
       "      <th>VALUE</th>\n",
       "      <th>STATUS</th>\n",
       "    </tr>\n",
       "  </thead>\n",
       "  <tbody>\n",
       "    <tr>\n",
       "      <th>18</th>\n",
       "      <td>2004</td>\n",
       "      <td>9824132.0</td>\n",
       "      <td>B</td>\n",
       "    </tr>\n",
       "    <tr>\n",
       "      <th>63</th>\n",
       "      <td>2005</td>\n",
       "      <td>9937695.0</td>\n",
       "      <td>B</td>\n",
       "    </tr>\n",
       "    <tr>\n",
       "      <th>108</th>\n",
       "      <td>2006</td>\n",
       "      <td>9679201.0</td>\n",
       "      <td>B</td>\n",
       "    </tr>\n",
       "    <tr>\n",
       "      <th>153</th>\n",
       "      <td>2007</td>\n",
       "      <td>9614467.0</td>\n",
       "      <td>A</td>\n",
       "    </tr>\n",
       "    <tr>\n",
       "      <th>198</th>\n",
       "      <td>2008</td>\n",
       "      <td>8956462.0</td>\n",
       "      <td>A</td>\n",
       "    </tr>\n",
       "  </tbody>\n",
       "</table>\n",
       "</div>"
      ],
      "text/plain": [
       "     REF_DATE      VALUE STATUS\n",
       "18       2004  9824132.0      B\n",
       "63       2005  9937695.0      B\n",
       "108      2006  9679201.0      B\n",
       "153      2007  9614467.0      A\n",
       "198      2008  8956462.0      A"
      ]
     },
     "execution_count": 19,
     "metadata": {},
     "output_type": "execute_result"
    }
   ],
   "source": [
    "trucking_df_003.head()"
   ]
  },
  {
   "cell_type": "code",
   "execution_count": 6,
   "metadata": {},
   "outputs": [
    {
     "data": {
      "text/plain": [
       "(630, 16)"
      ]
     },
     "execution_count": 6,
     "metadata": {},
     "output_type": "execute_result"
    }
   ],
   "source": [
    "border_df_000.shape"
   ]
  },
  {
   "cell_type": "markdown",
   "metadata": {},
   "source": [
    "### What are the number of NaNs for each column?"
   ]
  },
  {
   "cell_type": "code",
   "execution_count": 7,
   "metadata": {
    "scrolled": false
   },
   "outputs": [
    {
     "data": {
      "text/plain": [
       "REF_DATE                        0\n",
       "GEO                             0\n",
       "DGUID                           0\n",
       "Shipment type                   0\n",
       "Trucking industry activity      0\n",
       "UOM                             0\n",
       "UOM_ID                          0\n",
       "SCALAR_FACTOR                   0\n",
       "SCALAR_ID                       0\n",
       "VECTOR                          0\n",
       "COORDINATE                      0\n",
       "VALUE                           0\n",
       "STATUS                          0\n",
       "SYMBOL                        630\n",
       "TERMINATED                    630\n",
       "DECIMALS                        0\n",
       "dtype: int64"
      ]
     },
     "execution_count": 7,
     "metadata": {},
     "output_type": "execute_result"
    }
   ],
   "source": [
    "border_df_000.isna().sum()"
   ]
  },
  {
   "cell_type": "markdown",
   "metadata": {},
   "source": [
    "*Only two features are NaN*"
   ]
  },
  {
   "cell_type": "markdown",
   "metadata": {},
   "source": [
    "### What are the number of unique elements for each column?"
   ]
  },
  {
   "cell_type": "code",
   "execution_count": 16,
   "metadata": {},
   "outputs": [
    {
     "data": {
      "text/plain": [
       "REF_DATE                      14\n",
       "GEO                            1\n",
       "DGUID                          1\n",
       "Shipment type                  1\n",
       "Trucking industry activity     1\n",
       "UOM                            1\n",
       "UOM_ID                         1\n",
       "SCALAR_FACTOR                  1\n",
       "SCALAR_ID                      1\n",
       "VECTOR                         1\n",
       "COORDINATE                     1\n",
       "VALUE                         14\n",
       "STATUS                         2\n",
       "SYMBOL                         0\n",
       "TERMINATED                     0\n",
       "DECIMALS                       1\n",
       "dtype: int64"
      ]
     },
     "execution_count": 16,
     "metadata": {},
     "output_type": "execute_result"
    }
   ],
   "source": [
    "trucking_df_002.nunique()"
   ]
  },
  {
   "cell_type": "markdown",
   "metadata": {},
   "source": [
    "*Any feature that has 1 or less unique elements can be removed, since there is no variance to explore*"
   ]
  },
  {
   "cell_type": "markdown",
   "metadata": {},
   "source": [
    "### How many shipments went across the border?"
   ]
  },
  {
   "cell_type": "code",
   "execution_count": 20,
   "metadata": {},
   "outputs": [
    {
     "data": {
      "text/plain": [
       "140108198.0"
      ]
     },
     "execution_count": 20,
     "metadata": {},
     "output_type": "execute_result"
    }
   ],
   "source": [
    "trucking_df_003['VALUE'].sum()"
   ]
  },
  {
   "cell_type": "code",
   "execution_count": 21,
   "metadata": {},
   "outputs": [
    {
     "data": {
      "text/html": [
       "<div>\n",
       "<style scoped>\n",
       "    .dataframe tbody tr th:only-of-type {\n",
       "        vertical-align: middle;\n",
       "    }\n",
       "\n",
       "    .dataframe tbody tr th {\n",
       "        vertical-align: top;\n",
       "    }\n",
       "\n",
       "    .dataframe thead th {\n",
       "        text-align: right;\n",
       "    }\n",
       "</style>\n",
       "<table border=\"1\" class=\"dataframe\">\n",
       "  <thead>\n",
       "    <tr style=\"text-align: right;\">\n",
       "      <th></th>\n",
       "      <th>REF_DATE</th>\n",
       "      <th>VALUE</th>\n",
       "      <th>STATUS</th>\n",
       "    </tr>\n",
       "  </thead>\n",
       "  <tbody>\n",
       "    <tr>\n",
       "      <th>18</th>\n",
       "      <td>2004</td>\n",
       "      <td>9824132.0</td>\n",
       "      <td>B</td>\n",
       "    </tr>\n",
       "    <tr>\n",
       "      <th>63</th>\n",
       "      <td>2005</td>\n",
       "      <td>9937695.0</td>\n",
       "      <td>B</td>\n",
       "    </tr>\n",
       "    <tr>\n",
       "      <th>108</th>\n",
       "      <td>2006</td>\n",
       "      <td>9679201.0</td>\n",
       "      <td>B</td>\n",
       "    </tr>\n",
       "    <tr>\n",
       "      <th>153</th>\n",
       "      <td>2007</td>\n",
       "      <td>9614467.0</td>\n",
       "      <td>A</td>\n",
       "    </tr>\n",
       "    <tr>\n",
       "      <th>198</th>\n",
       "      <td>2008</td>\n",
       "      <td>8956462.0</td>\n",
       "      <td>A</td>\n",
       "    </tr>\n",
       "    <tr>\n",
       "      <th>243</th>\n",
       "      <td>2009</td>\n",
       "      <td>7823969.0</td>\n",
       "      <td>A</td>\n",
       "    </tr>\n",
       "    <tr>\n",
       "      <th>288</th>\n",
       "      <td>2010</td>\n",
       "      <td>9273881.0</td>\n",
       "      <td>B</td>\n",
       "    </tr>\n",
       "    <tr>\n",
       "      <th>333</th>\n",
       "      <td>2011</td>\n",
       "      <td>9301133.0</td>\n",
       "      <td>B</td>\n",
       "    </tr>\n",
       "    <tr>\n",
       "      <th>378</th>\n",
       "      <td>2012</td>\n",
       "      <td>10849871.0</td>\n",
       "      <td>A</td>\n",
       "    </tr>\n",
       "    <tr>\n",
       "      <th>423</th>\n",
       "      <td>2013</td>\n",
       "      <td>11328379.0</td>\n",
       "      <td>A</td>\n",
       "    </tr>\n",
       "    <tr>\n",
       "      <th>468</th>\n",
       "      <td>2014</td>\n",
       "      <td>11772583.0</td>\n",
       "      <td>B</td>\n",
       "    </tr>\n",
       "    <tr>\n",
       "      <th>513</th>\n",
       "      <td>2015</td>\n",
       "      <td>10835878.0</td>\n",
       "      <td>A</td>\n",
       "    </tr>\n",
       "    <tr>\n",
       "      <th>558</th>\n",
       "      <td>2016</td>\n",
       "      <td>10213139.0</td>\n",
       "      <td>B</td>\n",
       "    </tr>\n",
       "    <tr>\n",
       "      <th>603</th>\n",
       "      <td>2017</td>\n",
       "      <td>10697408.0</td>\n",
       "      <td>B</td>\n",
       "    </tr>\n",
       "  </tbody>\n",
       "</table>\n",
       "</div>"
      ],
      "text/plain": [
       "     REF_DATE       VALUE STATUS\n",
       "18       2004   9824132.0      B\n",
       "63       2005   9937695.0      B\n",
       "108      2006   9679201.0      B\n",
       "153      2007   9614467.0      A\n",
       "198      2008   8956462.0      A\n",
       "243      2009   7823969.0      A\n",
       "288      2010   9273881.0      B\n",
       "333      2011   9301133.0      B\n",
       "378      2012  10849871.0      A\n",
       "423      2013  11328379.0      A\n",
       "468      2014  11772583.0      B\n",
       "513      2015  10835878.0      A\n",
       "558      2016  10213139.0      B\n",
       "603      2017  10697408.0      B"
      ]
     },
     "execution_count": 21,
     "metadata": {},
     "output_type": "execute_result"
    }
   ],
   "source": [
    "trucking_df_003"
   ]
  },
  {
   "cell_type": "markdown",
   "metadata": {},
   "source": [
    "## Data Munging\n",
    "\n",
    "\n",
    "**Reduce 'Shipment type' to a single class 'Transborder shipments'**"
   ]
  },
  {
   "cell_type": "code",
   "execution_count": 13,
   "metadata": {},
   "outputs": [
    {
     "name": "stdout",
     "output_type": "stream",
     "text": [
      "['All shipments' 'Domestic shipments' 'Transborder shipments'\n",
      " 'Local shipments' 'Long distance shipments']\n",
      "(630, 16)\n",
      "(126, 16)\n"
     ]
    }
   ],
   "source": [
    "# Let's look at the unique values for 'Shipment type'\n",
    "print(trucking_df_000['Shipment type'].unique())\n",
    "\n",
    "# For this study we are only interested in the 'Transborder shipments'\n",
    "trucking_df_001 = trucking_df_000[trucking_df_000['Shipment type'] == 'Transborder shipments']\n",
    "print(trucking_df_000.shape)\n",
    "print(trucking_df_001.shape)"
   ]
  },
  {
   "cell_type": "markdown",
   "metadata": {},
   "source": [
    "*This reduced the number of rows by 80%*"
   ]
  },
  {
   "cell_type": "markdown",
   "metadata": {},
   "source": [
    "**Reduce 'Trucking industry activity' to a single class 'Shipments'**"
   ]
  },
  {
   "cell_type": "code",
   "execution_count": 15,
   "metadata": {},
   "outputs": [
    {
     "name": "stdout",
     "output_type": "stream",
     "text": [
      "['Shipments' 'Weight' 'Distance' 'Tonne-kilometres' 'Revenue'\n",
      " 'Weight per shipment' 'Distance per shipment' 'Revenue per shipment'\n",
      " 'Revenue per tonne-kilometre']\n",
      "(630, 16)\n",
      "(14, 16)\n"
     ]
    }
   ],
   "source": [
    "# Let's look at the unique values for 'Shipment type'\n",
    "print(trucking_df_001['Trucking industry activity'].unique())\n",
    "\n",
    "# For this study we are only interested in the 'Shipments'\n",
    "trucking_df_002 = trucking_df_001[trucking_df_001['Trucking industry activity'] == 'Shipments']\n",
    "print(trucking_df_000.shape)\n",
    "print(trucking_df_002.shape)"
   ]
  },
  {
   "cell_type": "markdown",
   "metadata": {},
   "source": [
    "*This reduced the number of rows by 98%*"
   ]
  },
  {
   "cell_type": "markdown",
   "metadata": {},
   "source": [
    "**Drop columns that have 1 or less unique elements**"
   ]
  },
  {
   "cell_type": "code",
   "execution_count": 17,
   "metadata": {},
   "outputs": [
    {
     "data": {
      "text/plain": [
       "['GEO',\n",
       " 'DGUID',\n",
       " 'Shipment type',\n",
       " 'Trucking industry activity',\n",
       " 'UOM',\n",
       " 'UOM_ID',\n",
       " 'SCALAR_FACTOR',\n",
       " 'SCALAR_ID',\n",
       " 'VECTOR',\n",
       " 'COORDINATE',\n",
       " 'SYMBOL',\n",
       " 'TERMINATED',\n",
       " 'DECIMALS']"
      ]
     },
     "execution_count": 17,
     "metadata": {},
     "output_type": "execute_result"
    }
   ],
   "source": [
    "drop_nonunique = [] # create an empty list to put columns to be dropped in\n",
    "column_unique = trucking_df_002.nunique() # shows the number of unique elements in each feature\n",
    "\n",
    "for i in range(len(trucking_df_002.nunique())):\n",
    "    if column_unique[i] <= 1: # if the number of unique elements in each feature is <= 1\n",
    "        drop_nonunique.append(column_unique.index[i]) # add that column to the list\n",
    "\n",
    "drop_nonunique    "
   ]
  },
  {
   "cell_type": "code",
   "execution_count": 18,
   "metadata": {
    "scrolled": false
   },
   "outputs": [
    {
     "name": "stdout",
     "output_type": "stream",
     "text": [
      "(630, 16)\n",
      "(14, 3)\n"
     ]
    }
   ],
   "source": [
    "trucking_df_003 = trucking_df_002.drop(drop_nonunique, axis = 1)\n",
    "print(trucking_df_000.shape)\n",
    "print(trucking_df_003.shape)"
   ]
  },
  {
   "cell_type": "markdown",
   "metadata": {},
   "source": [
    "*This reduced the number of columns by 81%*"
   ]
  }
 ],
 "metadata": {
  "kernelspec": {
   "display_name": "Python 3",
   "language": "python",
   "name": "python3"
  },
  "language_info": {
   "codemirror_mode": {
    "name": "ipython",
    "version": 3
   },
   "file_extension": ".py",
   "mimetype": "text/x-python",
   "name": "python",
   "nbconvert_exporter": "python",
   "pygments_lexer": "ipython3",
   "version": "3.7.1"
  }
 },
 "nbformat": 4,
 "nbformat_minor": 2
}
